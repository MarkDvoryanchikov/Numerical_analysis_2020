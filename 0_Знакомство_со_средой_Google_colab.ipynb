{
  "nbformat": 4,
  "nbformat_minor": 0,
  "metadata": {
    "colab": {
      "name": "0 Знакомство со средой Google colab.ipynb",
      "provenance": [],
      "collapsed_sections": [],
      "authorship_tag": "ABX9TyOYzcQ0G2ihMm+U6/K26i8O"
    },
    "kernelspec": {
      "name": "python3",
      "display_name": "Python 3"
    }
  },
  "cells": [
    {
      "cell_type": "markdown",
      "metadata": {
        "id": "214FG4r-Nsgk"
      },
      "source": [
        "# **Знакомство с colab**\n",
        "\n",
        "Щёлкните по блоку 2 раза, чтобы перейти в режим редактирования. Для выхода из данного режима просто нажмите на следующий блок.\n",
        "\n",
        "```\n",
        "# Выбран кодовый формат:\n",
        "a = 3\n",
        "b = 2\n",
        "a+b\n",
        "```\n",
        "\n",
        "Запись без форматирования:\n",
        "\n",
        "a = 3\n",
        "b = 2\n",
        "a+b\n",
        "\n"
      ]
    },
    {
      "cell_type": "markdown",
      "metadata": {
        "id": "XXaRxJ7eNwJu"
      },
      "source": [
        "Здесь (в интерактивном блокноте) можно проводить арифметические операции непосредственно над самими числами:"
      ]
    },
    {
      "cell_type": "code",
      "metadata": {
        "id": "7kuq4RueHhBb",
        "outputId": "7d366a79-fa8c-4ff2-96c0-b1372a8516fd",
        "colab": {
          "base_uri": "https://localhost:8080/",
          "height": 35
        }
      },
      "source": [
        "2+5"
      ],
      "execution_count": null,
      "outputs": [
        {
          "output_type": "execute_result",
          "data": {
            "text/plain": [
              "7"
            ]
          },
          "metadata": {
            "tags": []
          },
          "execution_count": 1
        }
      ]
    },
    {
      "cell_type": "markdown",
      "metadata": {
        "id": "w_alGLDwvQXO"
      },
      "source": [
        "Есть 2 типа блоков: кодовый (исполняемый) и текстовый (пояснения, структура). Если спуститься указателем мыши на нижнюю границу блока, то посередине границы будет предложено добавить новый блок вида **текст** или **код**.\n",
        "\n",
        "Самостоятельно изучите пиктограммы расположенные в правом верхнем углу выделеного блока.\n",
        "\n",
        "Намного удобнее использовать для работы с блокнотом быстрый ввод и горячие клавиши через палитру команд ***Ctrl+Shift+P***."
      ]
    },
    {
      "cell_type": "markdown",
      "metadata": {
        "id": "i_Zak4k-QNGP"
      },
      "source": [
        "# Поддерживаются заголовки 5 уровней\n",
        "## Поддерживаются заголовки 5 уровней\n",
        "### Поддерживаются заголовки 5 уровней\n",
        "#### Поддерживаются заголовки 5 уровней\n",
        "##### Поддерживаются заголовки 5 уровней\n",
        "###### Поддерживаются заголовки 6 уровней\n",
        "####### Поддерживаются заголовки 6 уровней!"
      ]
    },
    {
      "cell_type": "markdown",
      "metadata": {
        "id": "6rhQiT4czZg-"
      },
      "source": [
        "**Попробуйте сами создать и удалить несколько своих ячеек под этим блоком:**\n",
        "\n",
        "---\n",
        "\n",
        "\n",
        "\n"
      ]
    },
    {
      "cell_type": "markdown",
      "metadata": {
        "id": "ebwfWy4mjTgb"
      },
      "source": [
        "### **Переменные и блоки кода**\n"
      ]
    },
    {
      "cell_type": "markdown",
      "metadata": {
        "id": "gne1UnpPRVdV"
      },
      "source": [
        "Запись выражения через предварительно проинициализированые переменные:\n"
      ]
    },
    {
      "cell_type": "code",
      "metadata": {
        "id": "W7Fw_AedQBLI",
        "outputId": "4700a221-175a-48ec-d1d3-a1ef1d6c8826",
        "colab": {
          "base_uri": "https://localhost:8080/",
          "height": 32
        }
      },
      "source": [
        "a = 3\n",
        "b = 2\n",
        "a+b"
      ],
      "execution_count": null,
      "outputs": [
        {
          "output_type": "execute_result",
          "data": {
            "text/plain": [
              "5"
            ]
          },
          "metadata": {
            "tags": []
          },
          "execution_count": 2
        }
      ]
    },
    {
      "cell_type": "markdown",
      "metadata": {
        "id": "tApszZh60HWc"
      },
      "source": [
        "Обратите внимание, что если не запустить кодовый блок представленный ниже, а сразу попробовать обратиться к результатам, то будет выведено сообщение об ошибке."
      ]
    },
    {
      "cell_type": "code",
      "metadata": {
        "id": "Rq-QaUATlcFv"
      },
      "source": [
        "c = 23"
      ],
      "execution_count": null,
      "outputs": []
    },
    {
      "cell_type": "code",
      "metadata": {
        "id": "UOCEEUAX0itw",
        "outputId": "380665d9-9d4f-4fd8-a114-ef94599a0c03",
        "colab": {
          "base_uri": "https://localhost:8080/",
          "height": 160
        }
      },
      "source": [
        "с"
      ],
      "execution_count": null,
      "outputs": [
        {
          "output_type": "error",
          "ename": "NameError",
          "evalue": "ignored",
          "traceback": [
            "\u001b[0;31m---------------------------------------------------------------------------\u001b[0m",
            "\u001b[0;31mNameError\u001b[0m                                 Traceback (most recent call last)",
            "\u001b[0;32m<ipython-input-3-724f90c1aacb>\u001b[0m in \u001b[0;36m<module>\u001b[0;34m()\u001b[0m\n\u001b[0;32m----> 1\u001b[0;31m \u001b[0mс\u001b[0m\u001b[0;34m\u001b[0m\u001b[0;34m\u001b[0m\u001b[0m\n\u001b[0m",
            "\u001b[0;31mNameError\u001b[0m: name 'с' is not defined"
          ]
        }
      ]
    },
    {
      "cell_type": "markdown",
      "metadata": {
        "id": "DilbAEtL0pNH"
      },
      "source": [
        "**Исправим ошибку?**"
      ]
    },
    {
      "cell_type": "markdown",
      "metadata": {
        "id": "vPx_LNHb1DJQ"
      },
      "source": [
        "Ниже показана важность последовательности запуска кодовых ячеек:"
      ]
    },
    {
      "cell_type": "code",
      "metadata": {
        "id": "HODAMhpf0yB9"
      },
      "source": [
        "с2 = 2"
      ],
      "execution_count": null,
      "outputs": []
    },
    {
      "cell_type": "code",
      "metadata": {
        "id": "hOaPcDty0y9w"
      },
      "source": [
        "с2 = 3"
      ],
      "execution_count": null,
      "outputs": []
    },
    {
      "cell_type": "code",
      "metadata": {
        "id": "N6JZX3Dm0zIJ",
        "outputId": "b41ea4e0-f140-4519-9013-b78078664642",
        "colab": {
          "base_uri": "https://localhost:8080/",
          "height": 32
        }
      },
      "source": [
        "с2"
      ],
      "execution_count": null,
      "outputs": [
        {
          "output_type": "execute_result",
          "data": {
            "text/plain": [
              "4"
            ]
          },
          "metadata": {
            "tags": []
          },
          "execution_count": 7
        }
      ]
    },
    {
      "cell_type": "code",
      "metadata": {
        "id": "VOAN9Dgc00It"
      },
      "source": [
        "с2 = 4"
      ],
      "execution_count": null,
      "outputs": []
    },
    {
      "cell_type": "markdown",
      "metadata": {
        "id": "RKj3YKl71tiG"
      },
      "source": [
        "Число в квадратных скобках слева означает порядок, в котором блок кода был запущен. Соответственно если в скобках отсутствует цифра, код ещё не запускался."
      ]
    },
    {
      "cell_type": "markdown",
      "metadata": {
        "id": "LgteqhbH22vU"
      },
      "source": [
        "### **Функция type()**"
      ]
    },
    {
      "cell_type": "markdown",
      "metadata": {
        "id": "MAXhNLp-h0h5"
      },
      "source": [
        "Функция type() выводит тип данных переданного ей значения:"
      ]
    },
    {
      "cell_type": "code",
      "metadata": {
        "id": "0JLPNxsXQBqh",
        "outputId": "fb9c1e35-dc17-41ef-d4dd-001831345a69",
        "colab": {
          "base_uri": "https://localhost:8080/",
          "height": 32
        }
      },
      "source": [
        "type(True)\n"
      ],
      "execution_count": null,
      "outputs": [
        {
          "output_type": "execute_result",
          "data": {
            "text/plain": [
              "bool"
            ]
          },
          "metadata": {
            "tags": []
          },
          "execution_count": 8
        }
      ]
    },
    {
      "cell_type": "markdown",
      "metadata": {
        "id": "lK_XysIjiJcp"
      },
      "source": [
        "Попробуйте подставляя в функцию различные значения вывести другие типы данных:\n"
      ]
    },
    {
      "cell_type": "code",
      "metadata": {
        "id": "vs6TdQhBNfaj"
      },
      "source": [
        ""
      ],
      "execution_count": null,
      "outputs": []
    },
    {
      "cell_type": "code",
      "metadata": {
        "id": "IDaZ719yindT"
      },
      "source": [
        ""
      ],
      "execution_count": null,
      "outputs": []
    },
    {
      "cell_type": "markdown",
      "metadata": {
        "id": "v5kNpiKU3ICp"
      },
      "source": [
        "### **Условные операторы**"
      ]
    },
    {
      "cell_type": "markdown",
      "metadata": {
        "id": "9qx_05G_ioL-"
      },
      "source": [
        "Условные операторы нужны для проверки условий и, в зависимости от результата, определяют логику выполнения программы в нужном направлении.\n"
      ]
    },
    {
      "cell_type": "code",
      "metadata": {
        "id": "zAJ9NZOkiqAC",
        "outputId": "87c810c8-4086-4804-8ba1-39386ca18313",
        "colab": {
          "base_uri": "https://localhost:8080/",
          "height": 32
        }
      },
      "source": [
        " # объявляем переменную\n",
        "var = 5\n",
        "# выполняем проверку условия\n",
        "if var < 10:\n",
        "# если условие выполняется, то выполняется вложенная инструкция\n",
        "    print(\"var less than 10\")"
      ],
      "execution_count": null,
      "outputs": [
        {
          "output_type": "stream",
          "text": [
            "var less than 10\n"
          ],
          "name": "stdout"
        }
      ]
    },
    {
      "cell_type": "markdown",
      "metadata": {
        "id": "aGgqBvpJROV2"
      },
      "source": [
        "**Напишите своё условие ниже:**\n",
        "\n",
        "---\n",
        "\n"
      ]
    },
    {
      "cell_type": "code",
      "metadata": {
        "id": "nPDv_dTJ3oXh"
      },
      "source": [
        ""
      ],
      "execution_count": null,
      "outputs": []
    },
    {
      "cell_type": "markdown",
      "metadata": {
        "id": "npyv_wXGjEHy"
      },
      "source": [
        "Оператор **if** позволяет выполнить вложенную инструкцию, если результат выражения истинный (*True*), а что, если нам необходимо, чтобы программа могла выполнять действия и в случае ложного (*False*) результата? Для этого мы можем использовать оператор **else**. Условный оператор **else** (\"иначе\") является продолжением основной инструкции. "
      ]
    },
    {
      "cell_type": "markdown",
      "metadata": {
        "id": "kilJkA_-Q__h"
      },
      "source": [
        "**Попробуйте добавить условие else ниже самостоятельно:**\n",
        "\n",
        "---\n",
        "\n"
      ]
    },
    {
      "cell_type": "code",
      "metadata": {
        "id": "bwEBrrqvjaT1"
      },
      "source": [
        ""
      ],
      "execution_count": null,
      "outputs": []
    },
    {
      "cell_type": "markdown",
      "metadata": {
        "id": "ej_VOila4a4q"
      },
      "source": [
        "### **Циклы**"
      ]
    },
    {
      "cell_type": "markdown",
      "metadata": {
        "id": "Qg1s-SOACZ5d"
      },
      "source": [
        "Циклы это специальные выражения, которые позволяют выполнять часть кода несколько раз, если оно того требует. Циклы очень полезны в программировании, поскольку это позволяет не прописывать вручную одну и ту же операцию несколько раз."
      ]
    },
    {
      "cell_type": "code",
      "metadata": {
        "id": "Kl2IZjoQCi3k",
        "outputId": "117ef702-cebd-4080-91e7-b1af3f0e5706",
        "colab": {
          "base_uri": "https://localhost:8080/",
          "height": 98
        }
      },
      "source": [
        "print(1)\n",
        "print(2)\n",
        "print(3)\n",
        "print(4)\n",
        "print(5)"
      ],
      "execution_count": null,
      "outputs": [
        {
          "output_type": "stream",
          "text": [
            "1\n",
            "2\n",
            "3\n",
            "4\n",
            "5\n"
          ],
          "name": "stdout"
        }
      ]
    },
    {
      "cell_type": "code",
      "metadata": {
        "id": "U-3Gmp77CXn9",
        "outputId": "f3159020-227d-4ff2-e3da-9dafb07d909e",
        "colab": {
          "base_uri": "https://localhost:8080/",
          "height": 98
        }
      },
      "source": [
        "# создаем переменную, равную 1\n",
        "var = 1\n",
        "# прописываем цикл с условием - выполнять до тех пор, пока переменная\n",
        "# меньше или равна 5\n",
        "while var <= 5:\n",
        "# выводим значение переменной\n",
        "    print(var)\n",
        "# увеличиваем переменную на 1\n",
        "    var += 1"
      ],
      "execution_count": null,
      "outputs": [
        {
          "output_type": "stream",
          "text": [
            "1\n",
            "2\n",
            "3\n",
            "4\n",
            "5\n"
          ],
          "name": "stdout"
        }
      ]
    },
    {
      "cell_type": "code",
      "metadata": {
        "id": "ZRyAi1CIjUGV",
        "outputId": "81cc3d48-3f1d-4323-ea70-c8975d50ca2c",
        "colab": {
          "base_uri": "https://localhost:8080/",
          "height": 98
        }
      },
      "source": [
        "for i in [1, 2, 3, 4, 5]:\n",
        "    print(i)\n",
        "# Мы указываем, что наша вложенная инструкция print(i) должна выполняться для каждого элемента из списка [1, 2, 3, 4, 5]"
      ],
      "execution_count": null,
      "outputs": [
        {
          "output_type": "stream",
          "text": [
            "1\n",
            "2\n",
            "3\n",
            "4\n",
            "5\n"
          ],
          "name": "stdout"
        }
      ]
    },
    {
      "cell_type": "markdown",
      "metadata": {
        "id": "y57gT3c8DebI"
      },
      "source": [
        "**Задан массив из 10 чисел. Напишите программу, которая выводит их сумму ниже:**"
      ]
    },
    {
      "cell_type": "code",
      "metadata": {
        "id": "B1He3MVjDh6q"
      },
      "source": [
        "a = [1,2,3,-4,5,12,7,2,1,2]\n"
      ],
      "execution_count": null,
      "outputs": []
    },
    {
      "cell_type": "code",
      "metadata": {
        "id": "aTJTjfOfERHE"
      },
      "source": [
        ""
      ],
      "execution_count": null,
      "outputs": []
    },
    {
      "cell_type": "markdown",
      "metadata": {
        "id": "lumB9huM5SWD"
      },
      "source": [
        "### **Округление вещественных чисел**"
      ]
    },
    {
      "cell_type": "markdown",
      "metadata": {
        "id": "gmk19NcyESMb"
      },
      "source": [
        "Вещественные числа поддерживают те же операции, что и целые, однако из-за компьютерного представления, могут возникать неточности.\n",
        "\n",
        "Для округления вещественного числа можно применить метод **round()**.\n",
        "\n",
        "Если к вещественному числу применить метод **int()**, т.е. привести его к целочисленному типу, тогда дробная часть просто отсекается."
      ]
    },
    {
      "cell_type": "code",
      "metadata": {
        "id": "WT_K1uPmETgC",
        "outputId": "e2422fff-fbc8-4a17-d175-cc11fcee00e6",
        "colab": {
          "base_uri": "https://localhost:8080/",
          "height": 32
        }
      },
      "source": [
        "round(16.827, 2)"
      ],
      "execution_count": null,
      "outputs": [
        {
          "output_type": "execute_result",
          "data": {
            "text/plain": [
              "16.83"
            ]
          },
          "metadata": {
            "tags": []
          },
          "execution_count": 14
        }
      ]
    },
    {
      "cell_type": "code",
      "metadata": {
        "id": "YgRgodHkERSK",
        "outputId": "2afae3ce-f235-4ddf-e6d2-e8cf89cc3706",
        "colab": {
          "base_uri": "https://localhost:8080/",
          "height": 32
        }
      },
      "source": [
        "int(16.827)"
      ],
      "execution_count": null,
      "outputs": [
        {
          "output_type": "execute_result",
          "data": {
            "text/plain": [
              "16"
            ]
          },
          "metadata": {
            "tags": []
          },
          "execution_count": 15
        }
      ]
    },
    {
      "cell_type": "markdown",
      "metadata": {
        "id": "Xvr8MGUX7ezO"
      },
      "source": [
        "Попробуйте сформулировать правило округления числа вида **...5** (см. примеры ниже) в python самостоятельно. При необходимости добавьте блоки кода для проведения дополнительных экспериментов.\n",
        "\n",
        "---\n",
        "\n"
      ]
    },
    {
      "cell_type": "code",
      "metadata": {
        "id": "NHHp1BBB5onE",
        "outputId": "e8a52fc6-ad8b-4e76-82dc-b682ea88426c",
        "colab": {
          "base_uri": "https://localhost:8080/",
          "height": 32
        }
      },
      "source": [
        "round(16.805, 2)"
      ],
      "execution_count": null,
      "outputs": [
        {
          "output_type": "execute_result",
          "data": {
            "text/plain": [
              "16.8"
            ]
          },
          "metadata": {
            "tags": []
          },
          "execution_count": 26
        }
      ]
    },
    {
      "cell_type": "code",
      "metadata": {
        "id": "eSq7FrIR5o7h",
        "outputId": "d568d005-6f00-47e0-b05d-2c7f7c6406dd",
        "colab": {
          "base_uri": "https://localhost:8080/",
          "height": 32
        }
      },
      "source": [
        "round(16.815, 2)"
      ],
      "execution_count": null,
      "outputs": [
        {
          "output_type": "execute_result",
          "data": {
            "text/plain": [
              "16.82"
            ]
          },
          "metadata": {
            "tags": []
          },
          "execution_count": 27
        }
      ]
    },
    {
      "cell_type": "code",
      "metadata": {
        "id": "6yktrRKW5oXv",
        "outputId": "9247e2d0-b8eb-4c19-d629-6f635ef116a3",
        "colab": {
          "base_uri": "https://localhost:8080/",
          "height": 32
        }
      },
      "source": [
        "round(16.825, 2)"
      ],
      "execution_count": null,
      "outputs": [
        {
          "output_type": "execute_result",
          "data": {
            "text/plain": [
              "16.82"
            ]
          },
          "metadata": {
            "tags": []
          },
          "execution_count": 28
        }
      ]
    },
    {
      "cell_type": "markdown",
      "metadata": {
        "id": "_DStZtlH87D4"
      },
      "source": [
        "## **Полезные ссылки:**\n",
        "\n",
        "https://www.python.org/ - Оф. сайт Python. Интерпретаторы, документация.\n",
        "\n",
        "https://jupyter.org/ - О интерактивном блокноте Юпитер\n",
        "\n",
        "https://ru.wikipedia.org/wiki/%D0%9E%D0%BA%D1%80%D1%83%D0%B3%D0%BB%D0%B5%D0%BD%D0%B8%D0%B5 - Вики: Округление\n"
      ]
    }
  ]
}