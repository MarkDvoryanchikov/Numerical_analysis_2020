{
  "nbformat": 4,
  "nbformat_minor": 0,
  "metadata": {
    "colab": {
      "name": "2 Приближённые решения алгебраических и трансцендентных уравнений.ipynb",
      "provenance": [],
      "collapsed_sections": [],
      "authorship_tag": "ABX9TyNNe/kSQwKMqlP9zD7AYTVu"
    },
    "kernelspec": {
      "name": "python3",
      "display_name": "Python 3"
    }
  },
  "cells": [
    {
      "cell_type": "markdown",
      "metadata": {
        "id": "B83_SayXoqq6"
      },
      "source": [
        "# **Приближённые решения алгебраических и трансцендентных уравнений**"
      ]
    },
    {
      "cell_type": "markdown",
      "metadata": {
        "id": "LIjGB4dHUEBL"
      },
      "source": [
        "## **Корни уравнения**"
      ]
    },
    {
      "cell_type": "markdown",
      "metadata": {
        "id": "pBzzxMLOVMiF"
      },
      "source": [
        "Корнем уравнения $f(x) = 0$ называется значение $x$, подстановка которого в уравнение превращает его в верное числовое равенство.\n",
        "Например, если в уравнение $x^2 + 5x + 4 = 0$ подставить $x = -1$ , то получим $0 = 0$ (верно). Решить уравнение —\n",
        "значит найти его корни.\n",
        "\n",
        "1) трансцендентные уравнения, как правило, не решаются аналитически, за исключением специальных случаев («школьного» типа),\n",
        "когда уравнение можно удачной подстановкой свести к алгебраическому, например, $e^2x - 6e^x + 9 = 0$;\n",
        "\n",
        "2) даже для алгебраического уравнения степени выше четвертой не существует формулы, выражающей корни через коэффициенты уравнения при помощи конечного числа арифметических операций и извлечения корней. \n",
        "\n"
      ]
    },
    {
      "cell_type": "markdown",
      "metadata": {
        "id": "CI7o2xm2XJSj"
      },
      "source": [
        "Таким образом, большое значение имеет задача приближенного,\n",
        "численного отыскания корней уравнений:\n",
        "\n",
        "а) определяют количество корней уравнения и изолируют (отделяют) каждый из них. Отрезком изоляции называется отрезок, на котором лежит только один корень уравнения;\n",
        "\n",
        "б) вычисляют каждый корень с требуемой точностью."
      ]
    },
    {
      "cell_type": "markdown",
      "metadata": {
        "id": "f7Rqaq8eXdRZ"
      },
      "source": [
        "Для отделения корней уравнения $f(x) = 0$ применяют графический и аналитический методы.\n",
        "В первом из них строят график функции $y = f(x)$ и приближенно\n",
        "находят точки его пересечения с осью $Ox$ ."
      ]
    },
    {
      "cell_type": "markdown",
      "metadata": {
        "id": "0se2LP6WX8uC"
      },
      "source": [
        "### **Построение графика функции и отделение корней**\n",
        "\n",
        "Давайте попробуем отделить корни графическим способом\n",
        "\n",
        "$$ ln(x) + 2x^2 - 2 = 0 $$\n",
        "\n",
        "$$sin(x) + x^2 - 1 = 0$$\n",
        "\n",
        "$$2ln(x) + 0.01x^2 = 0$$\n",
        "\n",
        "$$3sin(x) - x + 3 = 0$$\n"
      ]
    },
    {
      "cell_type": "markdown",
      "metadata": {
        "id": "CqXqY9K6v-mR"
      },
      "source": [
        "График функции $y = f(х)$ - это множество всех точек плоскости, координаты $х$, $у$ которых удовлетворяют соотношению $y = f(x)$. Соответственно, чтобы построить график такой функции, нужно отразить на координатной плоскости изменение координат в зависисмости друг от друга. Чем меньше шаг, тем точнее будет отражено поведение функции. В то же время, при меньшем шаге, для построения аналогичного промежутка с большим шагом, потребуется больше точек для вычисления, хранения и рендеринга (отображения)."
      ]
    },
    {
      "cell_type": "code",
      "metadata": {
        "id": "JZUZftVwaN65"
      },
      "source": [
        "import numpy as np # импортируем библиотеку numpy для продвинутых математических вычислений\n",
        "import matplotlib.pyplot as plt # импортируем библиотеку matplotlib для визуализации, построения графиков\n",
        "%matplotlib inline\n"
      ],
      "execution_count": null,
      "outputs": []
    },
    {
      "cell_type": "markdown",
      "metadata": {
        "id": "E1FcZ6GtzfYd"
      },
      "source": [
        "Область определения функции может быть неограничена слева и справа. Разумно стоить функцию, на каком-либо промежутке отражающем интересующие детали, например, корень.\n",
        "\n",
        "Для задания этого промежутка c равномерно разнесёнными значениями удобно воспользоваться функцией **arange** библиотеки **numpy**. Ниже представлены примеры задания массива равномерно разнесенных значений:"
      ]
    },
    {
      "cell_type": "code",
      "metadata": {
        "id": "uVgeVkFHaQjz",
        "outputId": "b16cee7a-9915-4a1c-f3fb-7d6d8bc265c4",
        "colab": {
          "base_uri": "https://localhost:8080/",
          "height": 32
        }
      },
      "source": [
        "np.arange(7)"
      ],
      "execution_count": null,
      "outputs": [
        {
          "output_type": "execute_result",
          "data": {
            "text/plain": [
              "array([0, 1, 2, 3, 4, 5, 6])"
            ]
          },
          "metadata": {
            "tags": []
          },
          "execution_count": 7
        }
      ]
    },
    {
      "cell_type": "code",
      "metadata": {
        "id": "y7JDlDtkaRZX",
        "outputId": "e37c90a2-9958-40f3-c930-63e79d7ef726",
        "colab": {
          "base_uri": "https://localhost:8080/",
          "height": 32
        }
      },
      "source": [
        "np.arange(7.)"
      ],
      "execution_count": null,
      "outputs": [
        {
          "output_type": "execute_result",
          "data": {
            "text/plain": [
              "array([0., 1., 2., 3., 4., 5., 6.])"
            ]
          },
          "metadata": {
            "tags": []
          },
          "execution_count": 8
        }
      ]
    },
    {
      "cell_type": "code",
      "metadata": {
        "id": "ZamiYbZcaQ5z",
        "outputId": "71cf227a-7ae4-4bd4-b1ca-30417fc1fcb2",
        "colab": {
          "base_uri": "https://localhost:8080/",
          "height": 32
        }
      },
      "source": [
        "np.arange(15,22)"
      ],
      "execution_count": null,
      "outputs": [
        {
          "output_type": "execute_result",
          "data": {
            "text/plain": [
              "array([15, 16, 17, 18, 19, 20, 21])"
            ]
          },
          "metadata": {
            "tags": []
          },
          "execution_count": 9
        }
      ]
    },
    {
      "cell_type": "code",
      "metadata": {
        "id": "ujT3tNKcaQbL",
        "outputId": "a96caf33-51cd-490e-897d-cc14b01b46eb",
        "colab": {
          "base_uri": "https://localhost:8080/",
          "height": 32
        }
      },
      "source": [
        "np.arange(10,30,2)"
      ],
      "execution_count": null,
      "outputs": [
        {
          "output_type": "execute_result",
          "data": {
            "text/plain": [
              "array([10, 12, 14, 16, 18, 20, 22, 24, 26, 28])"
            ]
          },
          "metadata": {
            "tags": []
          },
          "execution_count": 10
        }
      ]
    },
    {
      "cell_type": "code",
      "metadata": {
        "id": "6E7Acmm5abOn",
        "outputId": "af5a9169-02d4-44dc-c4a8-e8b323f40623",
        "colab": {
          "base_uri": "https://localhost:8080/",
          "height": 32
        }
      },
      "source": [
        "np.arange(0.1, 2.2, 0.3)"
      ],
      "execution_count": null,
      "outputs": [
        {
          "output_type": "execute_result",
          "data": {
            "text/plain": [
              "array([0.1, 0.4, 0.7, 1. , 1.3, 1.6, 1.9, 2.2])"
            ]
          },
          "metadata": {
            "tags": []
          },
          "execution_count": 11
        }
      ]
    },
    {
      "cell_type": "markdown",
      "metadata": {
        "id": "-HYkiQjs7ZF9"
      },
      "source": [
        "При необходимости проведите дополнительные эксперменты с функцией **arange**.\n",
        "\n",
        "Используя функцию **len** для подсчёта количества элементов рассчитайте сколько будет точек в промежутке от **-3.5** до **7** с шагом **0.021**\n",
        "\n",
        "\n",
        "---\n",
        "\n"
      ]
    },
    {
      "cell_type": "code",
      "metadata": {
        "id": "a8SMnTX07Mr5"
      },
      "source": [
        ""
      ],
      "execution_count": null,
      "outputs": []
    },
    {
      "cell_type": "markdown",
      "metadata": {
        "id": "SdxNfDLN2Ahp"
      },
      "source": [
        "Построим график функции: $$ y = \\frac{10}{(x^2 - 2)} - 2 $$"
      ]
    },
    {
      "cell_type": "code",
      "metadata": {
        "id": "zKqbIMYuYLgi",
        "outputId": "8c27c009-a5bc-4ddd-9db1-ab8e58a239a1",
        "colab": {
          "base_uri": "https://localhost:8080/",
          "height": 313
        }
      },
      "source": [
        "x = np.arange(-5, 5, 0.01) # массив с равномерно разнесенными значениями внутри заданного интервала - дискретизация значений x\n",
        "\n",
        "y = 10 / (x ** 2 + 2) - 2\n",
        "\n",
        "\n",
        "plt.title('Зависимость x от y')\n",
        "plt.xlabel('x') #ось абсцисс\n",
        "plt.ylabel('y') #ось ординат\n",
        "plt.grid() # включение отображения сетки\n",
        "plt.plot(x,y) # построение графика"
      ],
      "execution_count": null,
      "outputs": [
        {
          "output_type": "execute_result",
          "data": {
            "text/plain": [
              "[<matplotlib.lines.Line2D at 0x7f56060531d0>]"
            ]
          },
          "metadata": {
            "tags": []
          },
          "execution_count": 8
        },
        {
          "output_type": "display_data",
          "data": {
            "image/png": "[encoded data removed]",
            "text/plain": [
              "<Figure size 432x288 with 1 Axes>"
            ]
          },
          "metadata": {
            "tags": [],
            "needs_background": "light"
          }
        }
      ]
    },
    {
      "cell_type": "markdown",
      "metadata": {
        "id": "WQB9nfvm5dv6"
      },
      "source": [
        "Исходя из графика можно веделить 2 корня уравнения, находящихся на промежутках:\n",
        "**[-2; 1.5]** и **[1.5; 2]**. Данные отрезки содержат по одному корню (пересечение графика функции с осью абсцисс)."
      ]
    },
    {
      "cell_type": "markdown",
      "metadata": {
        "id": "Tnvdr6Cxhi7w"
      },
      "source": [
        "**Теперь можно вернуться к 4 уравнениям представленным в начале подраздела, построить их графики и отделить корни.**\n",
        "\n",
        "\n",
        "---\n",
        "\n"
      ]
    },
    {
      "cell_type": "code",
      "metadata": {
        "id": "31HdkjfQYLPd"
      },
      "source": [
        ""
      ],
      "execution_count": null,
      "outputs": []
    },
    {
      "cell_type": "code",
      "metadata": {
        "id": "PFfFcRDWh5bx"
      },
      "source": [
        ""
      ],
      "execution_count": null,
      "outputs": []
    },
    {
      "cell_type": "code",
      "metadata": {
        "id": "65jZtc7Sh5M5"
      },
      "source": [
        ""
      ],
      "execution_count": null,
      "outputs": []
    },
    {
      "cell_type": "code",
      "metadata": {
        "id": "17BqxR6Rh4zb"
      },
      "source": [
        ""
      ],
      "execution_count": null,
      "outputs": []
    },
    {
      "cell_type": "markdown",
      "metadata": {
        "id": "LxmIsTk5UezN"
      },
      "source": [
        "## **Метод половинного деления (дихотомия)**"
      ]
    },
    {
      "cell_type": "markdown",
      "metadata": {
        "id": "MZMJS8FnUvPQ"
      },
      "source": [
        "### **Описание метода**\n",
        "\n",
        "Метод половинного деления один из методов решения нелинейных уравнений и основан на\n",
        "последовательном сужении интервала, содержащего единственный корень уравнения $F(x)=0$ до\n",
        "того времени, пока не будет достигнута заданная точность $ɛ$.\n",
        "Пусть задан отрезок $[а,b]$, содержащий один корень уравнения. Предварительно необходимо\n",
        "определить области локализации корней данного уравнения. Если на отрезке $[а,b]$ содержится более одного корня, то метод не работает."
      ]
    },
    {
      "cell_type": "markdown",
      "metadata": {
        "id": "REfLoXIKPupm"
      },
      "source": [
        "### **Алгоритм метода**\n",
        "\n",
        "1) Разобьем отрезок $[а,b]$ (содержащий оин корень) пополам. \n",
        "\n",
        "2) Определим новое приближение корня $х$ в середине отрезка $[а,b]$: $х=(а+b)/2$.\n",
        "\n",
        "3) Найдем значения функции в точках $а$ и $х$: $F(a)$ и $F(x)$.\n",
        "\n",
        "4) Проверим условие $F(a)F(x) < 0$. \n",
        "\n",
        "Если условие **выполнено**, то корень расположен на отрезке $[а,х]$. В этом случае необходимо точку $b$ переместить в точку $х$ **(b=х)**. \n",
        "\n",
        "Если условие **не выполнено**, то корень расположен на отрезке $[х,b]$. В этом случае необходимо точку $а$ переместить в точку $х$ **(а=х)**.\n",
        "\n",
        "5) Перейти к делению отрезка пополам (к началу алгоритма). \n",
        "\n",
        "Алгоритм выполнять до тех пор, пока не будет выполнено условие: разность значений корней на текущем и предыдущем шаге станет меньше заданной погрешности $|F(x^i)-F(x^{i-1})| < ɛ$"
      ]
    },
    {
      "cell_type": "markdown",
      "metadata": {
        "id": "pk9MnvByR98u"
      },
      "source": [
        "### Задача: Найти корни уравнения **cos(x) + x - 2 = 0**\n",
        "Точность вычислений: ***ɛ < 0.001***\n",
        "\n",
        "---\n",
        "\n"
      ]
    },
    {
      "cell_type": "code",
      "metadata": {
        "id": "smblrn5sTfWI"
      },
      "source": [
        ""
      ],
      "execution_count": null,
      "outputs": []
    },
    {
      "cell_type": "code",
      "metadata": {
        "id": "mR11Jyl_TfDZ"
      },
      "source": [
        ""
      ],
      "execution_count": null,
      "outputs": []
    },
    {
      "cell_type": "markdown",
      "metadata": {
        "id": "PMg_zYHFUe9T"
      },
      "source": [
        "## Метод итераций"
      ]
    },
    {
      "cell_type": "markdown",
      "metadata": {
        "id": "tAbAZdfeTm9X"
      },
      "source": [
        "### Описание метода\n",
        "\n",
        "Исходное нелинейное уравнение записывается в виде: **x=f(x)**. \n",
        "\n",
        "Для решения рассчитываются вспомогательные параметры ***q*** и ***δ***, где ***δ***—уточнённая точность. \n",
        "\n",
        "Сначала находим отрезок **[a; b]** такой, что функция ***f(x)*** непрерывна и меняет знак на отрезке, то есть **f(a)f(b)<0**\n",
        "\n",
        "Пусть известно начальное приближение корня ***х = х0*** .Подставляя это значение в правую часть уравнения, получим новое приближение: ***х1 = f(х0)***. Далее, подставляя каждый раз новое значение корня получимм последовательность значений: ***xi+1 = f(xi)***\n"
      ]
    },
    {
      "cell_type": "markdown",
      "metadata": {
        "id": "iSnmaZWRTmqC"
      },
      "source": [
        "### Алгоритм метода\n",
        "\n",
        "1) Найдём параметр ***q = max(a≤x≤b) |f′(x)|*** ( для сходимости нужно обеспечить выполнение условия ***q < 1***), \n",
        "\n",
        "вычислим уточнённую точность ***δ=ε*(1−q)/q***, \n",
        "\n",
        "найдём приближение корня ***x0 =(a+b)/2***.\n",
        "\n",
        "2) Найдём новое приближение корня ***x = f(x0)*** \n",
        "\n",
        "3) Если ***|x − x0| > δ***, то ***x0= x*** и идти к следующему шагу. Иначе, найден корень с требуемой точностью."
      ]
    },
    {
      "cell_type": "markdown",
      "metadata": {
        "id": "BtWkl1DGToUL"
      },
      "source": [
        "### Задача: Найти корни уравнения **cos(x) + x - 2 = 0**\n",
        "Точность вычислений: ***ɛ < 0.001***\n",
        "\n",
        "---\n",
        "\n"
      ]
    },
    {
      "cell_type": "code",
      "metadata": {
        "id": "4E1J54WCT7m2"
      },
      "source": [
        ""
      ],
      "execution_count": null,
      "outputs": []
    },
    {
      "cell_type": "code",
      "metadata": {
        "id": "JyCEMCiBT7SJ"
      },
      "source": [
        ""
      ],
      "execution_count": null,
      "outputs": []
    },
    {
      "cell_type": "markdown",
      "metadata": {
        "id": "maJzcZeLUfHL"
      },
      "source": [
        "## Метод хорд"
      ]
    },
    {
      "cell_type": "markdown",
      "metadata": {
        "id": "bmRVEXTYVGwa"
      },
      "source": [
        "### Описание метода\n",
        "\n",
        "Суть метода хорд состоит в разбиении отрезка **[a; b]** (при условии ***f(a)f(b) < 0***) на два отрезка с помощью хорды и выборе нового отрезка от точки пересечения хорды с осью абсцисс до неподвижной точки, на котором функция меняет знак и содержит решение, причём подвижная точка приближается к **ε**-окрестности решения."
      ]
    },
    {
      "cell_type": "markdown",
      "metadata": {
        "id": "G6WCFbNCVIst"
      },
      "source": [
        "### Алгоритм метода\n",
        "\n",
        "Будем искать корень функции ***f(x)***. Выберем две начальные точки ***C1(x1;y1)*** и ***C2(x2;y2)*** и проведем через них прямую. Она пересечет ось абсцисс в точке ***(x3;0)***. Теперь найдем значение функции с абсциссой ***x3***. Временно будем считать ***x3*** корнем на отрезке **[x1;x2]**. Пусть точка ***C3*** имеет абсциссу ***x3*** и лежит на графике. Теперь вместо точек ***C1*** и ***C2*** мы возьмём точку ***C3*** и точку ***C2***. Теперь с этими двумя точками проделаем ту же операцию и так далее, то есть будем получать две точки ***Cn+1*** и ***Cn*** и повторять операцию с ними."
      ]
    },
    {
      "cell_type": "markdown",
      "metadata": {
        "id": "gveftS6MVJdU"
      },
      "source": [
        "### Задача: Найти корни уравнения cos(x) + x - 2 = 0\n",
        "\n",
        "Точность вычислений: ɛ < 0.001\n",
        "\n",
        "\n",
        "---\n",
        "\n"
      ]
    },
    {
      "cell_type": "code",
      "metadata": {
        "id": "Q41vXdivVP6V"
      },
      "source": [
        ""
      ],
      "execution_count": null,
      "outputs": []
    },
    {
      "cell_type": "code",
      "metadata": {
        "id": "Z6yKT85fVQNl"
      },
      "source": [
        ""
      ],
      "execution_count": null,
      "outputs": []
    },
    {
      "cell_type": "markdown",
      "metadata": {
        "id": "L2W9serlVRAG"
      },
      "source": [
        "### Задача: Найти корни уравнения y=x^3 + 3 = 0\n",
        "\n",
        "Точность вычислений: ɛ < 0.0001"
      ]
    },
    {
      "cell_type": "code",
      "metadata": {
        "id": "w6rhAbQIVSZd"
      },
      "source": [
        ""
      ],
      "execution_count": null,
      "outputs": []
    },
    {
      "cell_type": "code",
      "metadata": {
        "id": "n9MpCW7lVSqc"
      },
      "source": [
        ""
      ],
      "execution_count": null,
      "outputs": []
    },
    {
      "cell_type": "markdown",
      "metadata": {
        "id": "THRB9Wv1UfSn"
      },
      "source": [
        "## Метод касательных"
      ]
    },
    {
      "cell_type": "markdown",
      "metadata": {
        "id": "gA1aT6kxZZJq"
      },
      "source": [
        "### Алгоритм\n",
        "\n",
        "Задается начальное приближение ***x0***.\n",
        "\n",
        "Пока не выполнено условие остановки (то есть погрешность в нужных пределах), вычисляют новое приближение:\n",
        "\n",
        "***xn+1 = xn - f(xn)/f'(xn)***\n",
        "\n",
        "В качестве условия сходимости можно взять\n",
        "***|xn+1 - xn| < ɛ*** или ***f(xn+1)< ε***"
      ]
    },
    {
      "cell_type": "markdown",
      "metadata": {
        "id": "3MMh2Uwjcrgs"
      },
      "source": [
        "### Задача: Найти корни уравнения y=x^3 + 3 = 0\n",
        "\n",
        "Точность вычислений: ɛ < 0.0001\n",
        "\n",
        "\n",
        "---\n",
        "\n"
      ]
    },
    {
      "cell_type": "code",
      "metadata": {
        "id": "whzseahHcsDi"
      },
      "source": [
        ""
      ],
      "execution_count": null,
      "outputs": []
    },
    {
      "cell_type": "markdown",
      "metadata": {
        "id": "iQjpY_HGiUJk"
      },
      "source": [
        "## **Индивидуальное задание**\n",
        "\n",
        "Необходимо решить уравнение 2 из 4 рассмотренных методов:\n",
        "\n",
        "(0) Метод половинного деления (метод дихотомии)\n",
        "\n",
        "(1) Метод простой итерации\n",
        "\n",
        "(2) Метод хорд\n",
        "\n",
        "(3) Метод касательных (метод Ньютона)\n",
        "\n",
        "__\n",
        "\n",
        "Точность вычислений: **ɛ < 0.0001**\n",
        "\n",
        "**Методы выбираются при подстановке номера варианта в ячейку ниже:**"
      ]
    },
    {
      "cell_type": "code",
      "metadata": {
        "id": "BqnwPekSl3S5",
        "outputId": "37554430-ade9-4aab-9ba4-c8b84c8ea7c0",
        "colab": {
          "base_uri": "https://localhost:8080/",
          "height": 32
        }
      },
      "source": [
        "option = 1 # заменить число на свой номер варианта\n",
        "first_method = option % 4\n",
        "second_method = option % 2 + 1 \n",
        "print(first_method, second_method)\n"
      ],
      "execution_count": null,
      "outputs": [
        {
          "output_type": "stream",
          "text": [
            "1 2\n"
          ],
          "name": "stdout"
        }
      ]
    },
    {
      "cell_type": "markdown",
      "metadata": {
        "id": "BtBhstGMFqMS"
      },
      "source": [
        "**В случае если в методе простых итераций q > 1, выбрать другой метод по своему усмотрению.**"
      ]
    },
    {
      "cell_type": "markdown",
      "metadata": {
        "id": "2CTvJej6t_Pk"
      },
      "source": [
        "## **Уравнения:**\n",
        "### **1) $ sin(x) - ln(x) = 0 $**\n",
        "\n",
        "### **2) $ x + cos(x) = 0 $**\n",
        "\n",
        "### **3) $ 2x + cos(3x) - 2 = 0 $**\n",
        "\n",
        "### **4) $ ln(x) - cos(0.5x) = 0 $**\n",
        "\n",
        "### **5) $ x^3 + cos(2x) - 5 = 0 $**\n",
        "\n",
        "### **6) $ 2*exp(\\frac{x}{2}) + cos(3x) - 7.5 = 0 $**\n",
        "\n",
        "### **7) $ \\frac{x^\\frac{1}{3}}{4} - 0.5 = 0 $**\n",
        "\n",
        "### **8) $ \\pi - \\frac{x^3}{4} - 24 = 0 $**\n",
        "\n",
        "### **9) $ 2*exp(\\frac{1}{3}x) - \\pi = 0 $**\n",
        "\n",
        "### **10) $ x^\\frac{1}{2} - 7 = 0 $**\n",
        "\n",
        "### **11) $ arctan(\\frac{x}{9}) - 1 = 0 $**\n",
        "\n",
        "### **12) $ sin(x^3) - ln(x) - 2 = 0 $**\n",
        "\n",
        "### **13) $ cos(x^3) - ln(x) - 2 = 0 $**\n",
        "\n",
        "### **14) $ x^5 - 10000 = 0 $**\n",
        "\n",
        "### **15) $ x^3 - 200 = 0 $**\n",
        "\n",
        "### **16) $ x^3 + 150 = 0 $**\n",
        "\n",
        "### **17) $ x^3 + 70 - 3x = 0 $**\n",
        "\n",
        "### **18) $ 2-ln(x) = 0 $**\n",
        "\n",
        "### **19) $ \\frac{\\pi}{2} - ln(x) = 0 $**\n",
        "\n",
        "### **20) $ \\frac{x}{2} - \\frac{ln(x)}{3} -13 = 0 $**\n",
        "\n",
        "### **21) $ \\frac{x}{7} + exp(x) - 7 = 0 $**\n",
        "\n",
        "### **22) $ \\frac{x}{6} + exp(x) - 10 = 0 $**\n",
        "\n",
        "### **23) $ \\frac{x}{5} - exp(x) + 120 = 0 $**\n",
        "\n",
        "### **24) $ cos(x) - x + 10 = 0 $**\n",
        "\n",
        "### **25) $ sin(x) + x - 20 = 0 $**"
      ]
    }
  ]
}