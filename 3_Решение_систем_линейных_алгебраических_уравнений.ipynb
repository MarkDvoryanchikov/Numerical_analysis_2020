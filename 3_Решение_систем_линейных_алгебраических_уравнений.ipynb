{
  "nbformat": 4,
  "nbformat_minor": 0,
  "metadata": {
    "colab": {
      "name": "3 Решение систем линейных алгебраических уравнений.ipynb",
      "provenance": [],
      "collapsed_sections": [],
      "authorship_tag": "ABX9TyOOtNBwKRYUpm75d1lvf7dL",
      "include_colab_link": true
    },
    "kernelspec": {
      "name": "python3",
      "display_name": "Python 3"
    }
  },
  "cells": [
    {
      "cell_type": "markdown",
      "metadata": {
        "id": "view-in-github",
        "colab_type": "text"
      },
      "source": [
        "<a href=\"https://colab.research.google.com/github/MarkDvoryanchikov/Numerical_analysis_2020/blob/master/3_%D0%A0%D0%B5%D1%88%D0%B5%D0%BD%D0%B8%D0%B5_%D1%81%D0%B8%D1%81%D1%82%D0%B5%D0%BC_%D0%BB%D0%B8%D0%BD%D0%B5%D0%B9%D0%BD%D1%8B%D1%85_%D0%B0%D0%BB%D0%B3%D0%B5%D0%B1%D1%80%D0%B0%D0%B8%D1%87%D0%B5%D1%81%D0%BA%D0%B8%D1%85_%D1%83%D1%80%D0%B0%D0%B2%D0%BD%D0%B5%D0%BD%D0%B8%D0%B9.ipynb\" target=\"_parent\"><img src=\"https://colab.research.google.com/assets/colab-badge.svg\" alt=\"Open In Colab\"/></a>"
      ]
    },
    {
      "cell_type": "markdown",
      "metadata": {
        "id": "jwAdeznXuWav"
      },
      "source": [
        "# **Решение систем линейных алгебраических уравнений**"
      ]
    },
    {
      "cell_type": "markdown",
      "metadata": {
        "id": "Jd4DNTv7vSN1"
      },
      "source": [
        "## **Векторы, матрицы и базовые операции над ними**"
      ]
    },
    {
      "cell_type": "markdown",
      "metadata": {
        "id": "K_UUbOAsBwdj"
      },
      "source": [
        "### **Векторы**"
      ]
    },
    {
      "cell_type": "markdown",
      "metadata": {
        "id": "XA_eZbGlyA5e"
      },
      "source": [
        "Python списки по умолчанию не являются векторами. Для обращения с ними как с векторами необходимо определять специальные функции или обходить их поэлементно."
      ]
    },
    {
      "cell_type": "code",
      "metadata": {
        "id": "5w0G_oiYeu9g"
      },
      "source": [
        "list_1 = [10, 20, 20]\n",
        "list_2 = [10, 10, 10]"
      ],
      "execution_count": null,
      "outputs": []
    },
    {
      "cell_type": "code",
      "metadata": {
        "id": "Su7P9PcIy_n9",
        "outputId": "d6b054d4-9fa9-4c64-e208-3e9d34c38c8c",
        "colab": {
          "base_uri": "https://localhost:8080/",
          "height": 35
        }
      },
      "source": [
        "sum_1_2 = list_1 + list_2\n",
        "sum_1_2"
      ],
      "execution_count": null,
      "outputs": [
        {
          "output_type": "execute_result",
          "data": {
            "text/plain": [
              "[10, 20, 20, 10, 1, 10]"
            ]
          },
          "metadata": {
            "tags": []
          },
          "execution_count": 17
        }
      ]
    },
    {
      "cell_type": "markdown",
      "metadata": {
        "id": "yG67hc39zXg0"
      },
      "source": [
        "Происходит конкатенация списков, а не их векторное сложение.\n",
        "Чтобы сложить списки как векторы, можно написать и использовать функцию:"
      ]
    },
    {
      "cell_type": "code",
      "metadata": {
        "id": "qTlVG2sqy_ZL",
        "outputId": "4896f2c7-9bf5-4310-d898-6af2f3f30e42",
        "colab": {
          "base_uri": "https://localhost:8080/",
          "height": 35
        }
      },
      "source": [
        "def add_vectors(v1, v2):          # на вход функции падаётся 2 объекта вектора\n",
        "    return [v1i + v2i for v1i, v2i in zip(v1, v2)] # [10 + 10, 20 + 10, 20 + 10]\n",
        "    # zip - функция сопоставляющая элементы последовательностей/списков друг с другом. \n",
        "    # n-й элемент v1 соответсвует n-му v2, что позволяет компактно поэлементено обходить несколько списко сразу.\n",
        "\n",
        "add_vectors(list_1, list_2)"
      ],
      "execution_count": null,
      "outputs": [
        {
          "output_type": "execute_result",
          "data": {
            "text/plain": [
              "[20, 30, 30]"
            ]
          },
          "metadata": {
            "tags": []
          },
          "execution_count": 21
        }
      ]
    },
    {
      "cell_type": "markdown",
      "metadata": {
        "id": "XNtVHgT-2qZE"
      },
      "source": [
        "Эти же действия можно сделать с использованием **numpy** несколько проще:"
      ]
    },
    {
      "cell_type": "code",
      "metadata": {
        "id": "xbjxcz1k4VcO"
      },
      "source": [
        "import numpy as np"
      ],
      "execution_count": null,
      "outputs": []
    },
    {
      "cell_type": "code",
      "metadata": {
        "id": "Tpjv5x9n4Ye3",
        "outputId": "89249d6a-8b46-4871-a318-170a0efa19eb",
        "colab": {
          "base_uri": "https://localhost:8080/",
          "height": 35
        }
      },
      "source": [
        "np_list_1 = np.array([10, 20, 20])\n",
        "np_list_2 = np.array([10, 10, 10])\n",
        "\n",
        "np_list_1 + np_list_2 # [10 + 10, 20 + 10, 20 + 10]"
      ],
      "execution_count": null,
      "outputs": [
        {
          "output_type": "execute_result",
          "data": {
            "text/plain": [
              "array([20, 30, 30])"
            ]
          },
          "metadata": {
            "tags": []
          },
          "execution_count": 28
        }
      ]
    },
    {
      "cell_type": "markdown",
      "metadata": {
        "id": "bXNY2k-O5QZq"
      },
      "source": [
        "**Попробуйте выполнить другие арифметические операции с векторами самостоятельно:**\n",
        "\n",
        "\n",
        "---\n",
        "\n"
      ]
    },
    {
      "cell_type": "code",
      "metadata": {
        "id": "iy4c5XGi6zRy"
      },
      "source": [
        ""
      ],
      "execution_count": null,
      "outputs": []
    },
    {
      "cell_type": "markdown",
      "metadata": {
        "id": "q4LdFzfg7PC2"
      },
      "source": [
        "**А что будет если попробовать выполнить такие операции к векторам разной длины?**\n",
        "\n",
        "---\n",
        "\n"
      ]
    },
    {
      "cell_type": "code",
      "metadata": {
        "id": "CX5-Z1wd7bFX"
      },
      "source": [
        ""
      ],
      "execution_count": null,
      "outputs": []
    },
    {
      "cell_type": "markdown",
      "metadata": {
        "id": "LGXzzsdh4SEg"
      },
      "source": [
        "#### **Умножение вектора на число**\n",
        "Попробуем применить к списку python:\n",
        "\n"
      ]
    },
    {
      "cell_type": "code",
      "metadata": {
        "id": "VDKzUlxo7m4j",
        "outputId": "9dfac7ba-6e3c-4a76-b52c-1a99ab56bc30",
        "colab": {
          "base_uri": "https://localhost:8080/",
          "height": 35
        }
      },
      "source": [
        "list_1 = [10, 20, 20]\n",
        "list_1 * 2"
      ],
      "execution_count": null,
      "outputs": [
        {
          "output_type": "execute_result",
          "data": {
            "text/plain": [
              "[10, 20, 20, 10, 20, 20]"
            ]
          },
          "metadata": {
            "tags": []
          },
          "execution_count": 34
        }
      ]
    },
    {
      "cell_type": "markdown",
      "metadata": {
        "id": "kUb-Ap7N8js2"
      },
      "source": [
        "Список стал в 2 раза больше, но при умножении вектора на число происходит его поэлементное умножение. Этого можно достичь обойдя список в цикле."
      ]
    },
    {
      "cell_type": "code",
      "metadata": {
        "id": "cY3IXaws8KHD",
        "outputId": "f78779ed-903f-4552-cd53-7137f6b10902",
        "colab": {
          "base_uri": "https://localhost:8080/",
          "height": 35
        }
      },
      "source": [
        "list_1 = [10, 20, 20]\n",
        "list_mult = [i * 2 for i in list_1]\n",
        "list_mult"
      ],
      "execution_count": null,
      "outputs": [
        {
          "output_type": "execute_result",
          "data": {
            "text/plain": [
              "[20, 40, 40]"
            ]
          },
          "metadata": {
            "tags": []
          },
          "execution_count": 38
        }
      ]
    },
    {
      "cell_type": "markdown",
      "metadata": {
        "id": "2jH0S6ea9Xxc"
      },
      "source": [
        "Вернёмся к numpy:"
      ]
    },
    {
      "cell_type": "code",
      "metadata": {
        "id": "gMm1uMbh9jOD",
        "outputId": "e54f08c0-a323-4aec-d5b1-0efab2c835b3",
        "colab": {
          "base_uri": "https://localhost:8080/",
          "height": 35
        }
      },
      "source": [
        "np_list_1 = np.array([10, 20, 20])\n",
        "np_list_1 * 2"
      ],
      "execution_count": null,
      "outputs": [
        {
          "output_type": "execute_result",
          "data": {
            "text/plain": [
              "array([20, 40, 40])"
            ]
          },
          "metadata": {
            "tags": []
          },
          "execution_count": 39
        }
      ]
    },
    {
      "cell_type": "markdown",
      "metadata": {
        "id": "u1dmMgd193hL"
      },
      "source": [
        "Несколько полезных функций для векторов:"
      ]
    },
    {
      "cell_type": "code",
      "metadata": {
        "id": "AwM9eyAp-BNI",
        "outputId": "7152021a-e41a-4b1b-cc78-b85900ce7d3c",
        "colab": {
          "base_uri": "https://localhost:8080/",
          "height": 72
        }
      },
      "source": [
        "np_list_1 = np.array([10, 20, 20])\n",
        "print(\"Сумма элементов:\", sum(np_list_1))\n",
        "print(\"Минимальный элемент:\", min(np_list_1))\n",
        "print(\"Максимальный элемент:\", max(np_list_1))"
      ],
      "execution_count": null,
      "outputs": [
        {
          "output_type": "stream",
          "text": [
            "Сумма элементов: 50\n",
            "Минимальный элемент: 10\n",
            "Максимальный элемент: 20\n"
          ],
          "name": "stdout"
        }
      ]
    },
    {
      "cell_type": "markdown",
      "metadata": {
        "id": "_ds7HQKEBkca"
      },
      "source": [
        "### **Матрицы**"
      ]
    },
    {
      "cell_type": "markdown",
      "metadata": {
        "id": "9X9bJmakCvZw"
      },
      "source": [
        "Матрицу в numpy можно определить следующим образом:"
      ]
    },
    {
      "cell_type": "code",
      "metadata": {
        "id": "2XIXdXhv-B03",
        "outputId": "585e9f74-cdd5-41da-ee27-af7a184a78ef",
        "colab": {
          "base_uri": "https://localhost:8080/",
          "height": 72
        }
      },
      "source": [
        "matrix = np.array([\n",
        "    [1, 2, 3],\n",
        "    [4, 5, 6],\n",
        "    [7, 8, 9],\n",
        "    ])\n",
        "matrix"
      ],
      "execution_count": null,
      "outputs": [
        {
          "output_type": "execute_result",
          "data": {
            "text/plain": [
              "array([[1, 2, 3],\n",
              "       [4, 5, 6],\n",
              "       [7, 8, 9]])"
            ]
          },
          "metadata": {
            "tags": []
          },
          "execution_count": 59
        }
      ]
    },
    {
      "cell_type": "markdown",
      "metadata": {
        "id": "UZ9X6yTrDIFl"
      },
      "source": [
        "Попробуем сложить 2 матрицы:"
      ]
    },
    {
      "cell_type": "code",
      "metadata": {
        "id": "buXAS-vt-Bmn",
        "outputId": "fb4f3c0e-2ce8-4c22-97ee-cfc9dda54a15",
        "colab": {
          "base_uri": "https://localhost:8080/",
          "height": 209
        }
      },
      "source": [
        "matrix1 = np.array([\n",
        "    [1, 2, 3],\n",
        "    [4, 5, 6],\n",
        "    [7, 8, 9],\n",
        "    ])\n",
        "matrix2 = np.array([\n",
        "    [1, 2, 3],\n",
        "    [4, 5, 6],\n",
        "    ])\n",
        "matrix1 + matrix2"
      ],
      "execution_count": null,
      "outputs": [
        {
          "output_type": "error",
          "ename": "ValueError",
          "evalue": "ignored",
          "traceback": [
            "\u001b[0;31m---------------------------------------------------------------------------\u001b[0m",
            "\u001b[0;31mValueError\u001b[0m                                Traceback (most recent call last)",
            "\u001b[0;32m<ipython-input-62-bd57511b92f6>\u001b[0m in \u001b[0;36m<module>\u001b[0;34m()\u001b[0m\n\u001b[1;32m      8\u001b[0m     \u001b[0;34m[\u001b[0m\u001b[0;36m4\u001b[0m\u001b[0;34m,\u001b[0m \u001b[0;36m5\u001b[0m\u001b[0;34m,\u001b[0m \u001b[0;36m6\u001b[0m\u001b[0;34m]\u001b[0m\u001b[0;34m,\u001b[0m\u001b[0;34m\u001b[0m\u001b[0;34m\u001b[0m\u001b[0m\n\u001b[1;32m      9\u001b[0m     ])\n\u001b[0;32m---> 10\u001b[0;31m \u001b[0mmatrix1\u001b[0m \u001b[0;34m+\u001b[0m \u001b[0mmatrix2\u001b[0m\u001b[0;34m\u001b[0m\u001b[0;34m\u001b[0m\u001b[0m\n\u001b[0m",
            "\u001b[0;31mValueError\u001b[0m: operands could not be broadcast together with shapes (3,3) (2,3) "
          ]
        }
      ]
    },
    {
      "cell_type": "markdown",
      "metadata": {
        "id": "DGqoNdVqDmFq"
      },
      "source": [
        "**Всё верно!** Складывать и вычитать можно только матрицы одинакового размера:"
      ]
    },
    {
      "cell_type": "code",
      "metadata": {
        "id": "p7inc_a2D2Ba",
        "outputId": "e009bb48-eb3e-4ddc-8543-8d75cd26b0b2",
        "colab": {
          "base_uri": "https://localhost:8080/",
          "height": 72
        }
      },
      "source": [
        "matrix1 = np.array([\n",
        "    [1, 2, 3],\n",
        "    [4, 5, 6],\n",
        "    [7, 8, 9],\n",
        "    ])\n",
        "matrix2 = np.array([\n",
        "    [1, 2, 3],\n",
        "    [4, 5, 6],\n",
        "    [7, 8, 9],\n",
        "    ])\n",
        "matrix1 + matrix2"
      ],
      "execution_count": null,
      "outputs": [
        {
          "output_type": "execute_result",
          "data": {
            "text/plain": [
              "array([[ 2,  4,  6],\n",
              "       [ 8, 10, 12],\n",
              "       [14, 16, 18]])"
            ]
          },
          "metadata": {
            "tags": []
          },
          "execution_count": 63
        }
      ]
    },
    {
      "cell_type": "markdown",
      "metadata": {
        "id": "WU7GDKiGE-Dk"
      },
      "source": [
        "Сложение матрицы и вектора:"
      ]
    },
    {
      "cell_type": "code",
      "metadata": {
        "id": "mIWKMGo1D8zY",
        "outputId": "45739353-cdbe-48be-abe5-ebe21afd8e64",
        "colab": {
          "base_uri": "https://localhost:8080/",
          "height": 72
        }
      },
      "source": [
        "matrix1 = np.array([\n",
        "    [1, 2, 3],\n",
        "    [4, 5, 6],\n",
        "    [7, 8, 9],\n",
        "    ])\n",
        "vector1 = np.array([1, 2, 3])\n",
        "matrix1 + vector1"
      ],
      "execution_count": null,
      "outputs": [
        {
          "output_type": "execute_result",
          "data": {
            "text/plain": [
              "array([[ 2,  4,  6],\n",
              "       [ 5,  7,  9],\n",
              "       [ 8, 10, 12]])"
            ]
          },
          "metadata": {
            "tags": []
          },
          "execution_count": 67
        }
      ]
    },
    {
      "cell_type": "markdown",
      "metadata": {
        "id": "tZHjgA7YFdry"
      },
      "source": [
        "**Поэксперементируйте с арифметическим операциями над матрицами самостоятельно:**\n",
        "\n",
        "\n",
        "---\n",
        "\n"
      ]
    },
    {
      "cell_type": "code",
      "metadata": {
        "id": "5Ej_igReFuNv"
      },
      "source": [
        ""
      ],
      "execution_count": null,
      "outputs": []
    },
    {
      "cell_type": "markdown",
      "metadata": {
        "id": "lUT0Va4AFvA_"
      },
      "source": [
        "Поработаем с конкретной (первой) строкой матрицы:"
      ]
    },
    {
      "cell_type": "code",
      "metadata": {
        "id": "m8iMa2u9eChv",
        "outputId": "0a90379a-f5f5-4c46-85de-cc9e8f86b387",
        "colab": {
          "base_uri": "https://localhost:8080/",
          "height": 72
        }
      },
      "source": [
        "matrix1 = np.array([\n",
        "    [1, 2, 3],\n",
        "    [4, 5, 6],\n",
        "    [7, 8, 9],\n",
        "    ])\n",
        "vector1 = np.array([1, 2, 3])\n",
        "matrix1[0] = matrix1[1] + vector1*10\n",
        "matrix1"
      ],
      "execution_count": null,
      "outputs": [
        {
          "output_type": "execute_result",
          "data": {
            "text/plain": [
              "array([[14, 25, 36],\n",
              "       [ 4,  5,  6],\n",
              "       [ 7,  8,  9]])"
            ]
          },
          "metadata": {
            "tags": []
          },
          "execution_count": 75
        }
      ]
    },
    {
      "cell_type": "markdown",
      "metadata": {
        "id": "0n1FRJbOiFuN"
      },
      "source": [
        "**Используя базовые операции привести систему к верхней треугольной матрице (метод Гаусса - Прямой ход):**\n",
        "\n",
        "\n",
        "---\n"
      ]
    },
    {
      "cell_type": "code",
      "metadata": {
        "id": "w-FVPkG5kAz2"
      },
      "source": [
        "a = np.array([\n",
        "    [2, 1, -1],\n",
        "    [-3, -1, 2],\n",
        "    [-2, 1, 2],\n",
        "    ])\n",
        "b = np.array([8, -11, -3])"
      ],
      "execution_count": null,
      "outputs": []
    },
    {
      "cell_type": "code",
      "metadata": {
        "id": "IOMILwnx-ueT"
      },
      "source": [
        ""
      ],
      "execution_count": null,
      "outputs": []
    },
    {
      "cell_type": "markdown",
      "metadata": {
        "id": "t8Uvx_qN-nOE"
      },
      "source": [
        "**Используя обратный ход найти корни полученной системы на предыдущем шаге (вывести вектор найденных неизвестных)**\n",
        "\n",
        "\n",
        "---\n",
        "\n"
      ]
    },
    {
      "cell_type": "code",
      "metadata": {
        "id": "Ma2eQReK_J5_"
      },
      "source": [
        ""
      ],
      "execution_count": null,
      "outputs": []
    },
    {
      "cell_type": "markdown",
      "metadata": {
        "id": "ufpVpXQzBn_F"
      },
      "source": [
        "### **Нормы матрицы**"
      ]
    },
    {
      "cell_type": "code",
      "metadata": {
        "id": "wUL_K93EAsVn"
      },
      "source": [
        "A = np.array([\n",
        "    [1, 2, -1],\n",
        "    [-3, -3, 4],\n",
        "    [-5, 2, 2],\n",
        "    ])"
      ],
      "execution_count": null,
      "outputs": []
    },
    {
      "cell_type": "markdown",
      "metadata": {
        "id": "iWWqxeQk_Kjv"
      },
      "source": [
        "Для матрицы **A** найти норму **$ ||A||_1 $**\n",
        "\n",
        "---\n",
        "\n"
      ]
    },
    {
      "cell_type": "code",
      "metadata": {
        "id": "IfXEhPe1ACkM"
      },
      "source": [
        ""
      ],
      "execution_count": null,
      "outputs": []
    },
    {
      "cell_type": "markdown",
      "metadata": {
        "id": "rHfadhuiADq9"
      },
      "source": [
        "Для матрицы **A** найти норму **$ ||A||_2 $**"
      ]
    },
    {
      "cell_type": "code",
      "metadata": {
        "id": "lBXdLiGIAEbU"
      },
      "source": [
        ""
      ],
      "execution_count": null,
      "outputs": []
    },
    {
      "cell_type": "markdown",
      "metadata": {
        "id": "PlCASDT4AE1x"
      },
      "source": [
        "Для матрицы **A** найти норму **$ ||A||_{\\infty} $**"
      ]
    },
    {
      "cell_type": "code",
      "metadata": {
        "id": "WIV-5uFlAFTz"
      },
      "source": [
        "# Подсказка. Получить первый столбец матрицы можно следующим образом: С[:,0]"
      ],
      "execution_count": null,
      "outputs": []
    },
    {
      "cell_type": "markdown",
      "metadata": {
        "id": "7FklDrdMCX4y"
      },
      "source": [
        "## **Индивидуальное задание**\n",
        "\n",
        "Необходимо решить систему уравнений записанную в матричной форме (1) **методом простых итераций** и (2) **методом Зейделя**. Представить полученные значения для каждой итерации. Сравнить полученное количество итераций. Какой метод и насколько получился быстрее?\n",
        "\n",
        "Точность вычислений: **ɛ < 0.001**"
      ]
    },
    {
      "cell_type": "markdown",
      "metadata": {
        "id": "hN-Ue0cHD6dw"
      },
      "source": [
        "### **Системы:**\n",
        "\n",
        "1) $A = \\begin{bmatrix}\n",
        "       8 & 2 & 1           \\\\[0.7em]\n",
        "       3 & 7 & -1          \\\\[0.7em]\n",
        "       2 & 1 & -9          \\\\[0.7em]\n",
        "     \\end{bmatrix} b = \\begin{bmatrix}\n",
        "       3           \\\\[0.7em]\n",
        "       4           \\\\[0.7em]\n",
        "       6           \\\\[0.7em]      \n",
        "     \\end{bmatrix}$; \n",
        "\n",
        "2) $A = \\begin{bmatrix}\n",
        "       7 & 2 & 1           \\\\[0.7em]\n",
        "       4 & 10 & -1          \\\\[0.7em]\n",
        "       2 & 1 & -8          \\\\[0.7em]\n",
        "     \\end{bmatrix} b = \\begin{bmatrix}\n",
        "       4           \\\\[0.7em]\n",
        "       5           \\\\[0.7em]\n",
        "       6           \\\\[0.7em]      \n",
        "     \\end{bmatrix}$; \n",
        "\n",
        "3) $A = \\begin{bmatrix}\n",
        "       7 & 2 & -1           \\\\[0.7em]\n",
        "       3 & 8 & 1          \\\\[0.7em]\n",
        "       -2 & 2 & -9          \\\\[0.7em]\n",
        "     \\end{bmatrix} b = \\begin{bmatrix}\n",
        "       4           \\\\[0.7em]\n",
        "       2           \\\\[0.7em]\n",
        "       6           \\\\[0.7em]      \n",
        "     \\end{bmatrix}$ \n",
        "     \n",
        "4) $A = \\begin{bmatrix}\n",
        "       7 & 2 & -2           \\\\[0.7em]\n",
        "       2 & 8 & 3          \\\\[0.7em]\n",
        "       2.5 & -2 & 4          \\\\[0.7em]\n",
        "     \\end{bmatrix} b = \\begin{bmatrix}\n",
        "       3.6           \\\\[0.7em]\n",
        "       4.2           \\\\[0.7em]\n",
        "       -2            \\\\[0.7em]      \n",
        "     \\end{bmatrix}$\n",
        "\n",
        "5) $A = \\begin{bmatrix}\n",
        "       8 & 4 & 3           \\\\[0.7em]\n",
        "       3 & 10 & 4          \\\\[0.7em]\n",
        "       4 & 5 & 11          \\\\[0.7em]\n",
        "     \\end{bmatrix} b = \\begin{bmatrix}\n",
        "       5           \\\\[0.7em]\n",
        "       3           \\\\[0.7em]\n",
        "       9            \\\\[0.7em]      \n",
        "     \\end{bmatrix}$ \n",
        "     \n",
        "6) $A = \\begin{bmatrix}\n",
        "       7 & 2.5 & 3           \\\\[0.7em]\n",
        "       2 & 9 & -5          \\\\[0.7em]\n",
        "       4 & 2 & 10          \\\\[0.7em]\n",
        "     \\end{bmatrix} b = \\begin{bmatrix}\n",
        "       7           \\\\[0.7em]\n",
        "       -6           \\\\[0.7em]\n",
        "       6            \\\\[0.7em]      \n",
        "     \\end{bmatrix}$ \n",
        "     \n",
        "7) $A = \\begin{bmatrix}\n",
        "       6 & 2.5 & 3           \\\\[0.7em]\n",
        "       1 & 9 & -5          \\\\[0.7em]\n",
        "       5 & 2 & 11          \\\\[0.7em]\n",
        "     \\end{bmatrix} b = \\begin{bmatrix}\n",
        "       3           \\\\[0.7em]\n",
        "       -2           \\\\[0.7em]\n",
        "       5            \\\\[0.7em]      \n",
        "     \\end{bmatrix}$ \n",
        "     \n",
        "8) $A = \\begin{bmatrix}\n",
        "       8 & 3 & -2           \\\\[0.7em]\n",
        "       2.5 & 7 & 3          \\\\[0.7em]\n",
        "       2.5 & -2 & 9          \\\\[0.7em]\n",
        "     \\end{bmatrix} b = \\begin{bmatrix}\n",
        "       3.6           \\\\[0.7em]\n",
        "       4.4           \\\\[0.7em]\n",
        "       -2            \\\\[0.7em]      \n",
        "     \\end{bmatrix}$\n",
        "\n",
        "9) $A = \\begin{bmatrix}\n",
        "       9 & 2.5 & 3           \\\\[0.7em]\n",
        "       -1 & 10 & -5          \\\\[0.7em]\n",
        "       5 & 5 & 12          \\\\[0.7em]\n",
        "     \\end{bmatrix} b = \\begin{bmatrix}\n",
        "       2           \\\\[0.7em]\n",
        "       -4           \\\\[0.7em]\n",
        "       12            \\\\[0.7em]      \n",
        "     \\end{bmatrix}$\n",
        "\n",
        "10) $A = \\begin{bmatrix}\n",
        "       -8 & 2.5 & -3           \\\\[0.7em]\n",
        "       1.5 & 9 & -5          \\\\[0.7em]\n",
        "       5 & 5 & 11          \\\\[0.7em]\n",
        "     \\end{bmatrix} b = \\begin{bmatrix}\n",
        "       4           \\\\[0.7em]\n",
        "       3           \\\\[0.7em]\n",
        "       -8            \\\\[0.7em]      \n",
        "     \\end{bmatrix}$\n",
        "\n",
        "11) $A = \\begin{bmatrix}\n",
        "       -9 & 5 & -3           \\\\[0.7em]\n",
        "       2.5 & 12.2 & -5          \\\\[0.7em]\n",
        "       1.5 & 5 & 10          \\\\[0.7em]\n",
        "     \\end{bmatrix} b = \\begin{bmatrix}\n",
        "       -4.3           \\\\[0.7em]\n",
        "       3           \\\\[0.7em]\n",
        "       6            \\\\[0.7em]      \n",
        "     \\end{bmatrix}$\n",
        "\n",
        "12) $A = \\begin{bmatrix}\n",
        "       -9 & 5 & -3           \\\\[0.7em]\n",
        "       2 & 8.5 & -5          \\\\[0.7em]\n",
        "       1.5 & 5 & 9          \\\\[0.7em]\n",
        "     \\end{bmatrix} b = \\begin{bmatrix}\n",
        "       3           \\\\[0.7em]\n",
        "       -2           \\\\[0.7em]\n",
        "       -5            \\\\[0.7em]      \n",
        "     \\end{bmatrix}$\n",
        "\n",
        "13) $A = \\begin{bmatrix}\n",
        "       8 & 2.7 & 4           \\\\[0.7em]\n",
        "       3.5 & 7 & 3          \\\\[0.7em]\n",
        "       1.5 & 4 & -9          \\\\[0.7em]\n",
        "     \\end{bmatrix} b = \\begin{bmatrix}\n",
        "       7.8           \\\\[0.7em]\n",
        "       -2           \\\\[0.7em]\n",
        "       -4            \\\\[0.7em]      \n",
        "     \\end{bmatrix}$\n",
        "\n",
        "14) $A = \\begin{bmatrix}\n",
        "       -10 & 5 & -3           \\\\[0.7em]\n",
        "       3.5 & 10.5 & -5          \\\\[0.7em]\n",
        "       1.5 & 5 & 8          \\\\[0.7em]\n",
        "     \\end{bmatrix} b = \\begin{bmatrix}\n",
        "       -3           \\\\[0.7em]\n",
        "       2           \\\\[0.7em]\n",
        "       5            \\\\[0.7em]      \n",
        "     \\end{bmatrix}$\n",
        "\n",
        "15) $A = \\begin{bmatrix}\n",
        "       9 & 2.5 & 3           \\\\[0.7em]\n",
        "       -1 & 10 & -5          \\\\[0.7em]\n",
        "       5 & 5 & 12          \\\\[0.7em]\n",
        "     \\end{bmatrix} b = \\begin{bmatrix}\n",
        "       2           \\\\[0.7em]\n",
        "       -3           \\\\[0.7em]\n",
        "       18            \\\\[0.7em]      \n",
        "     \\end{bmatrix}$\n",
        "\n",
        "16) $A = \\begin{bmatrix}\n",
        "       8 & 2.5 & 3           \\\\[0.7em]\n",
        "       3 & 10 & -4          \\\\[0.7em]\n",
        "       4 & 2 & 10          \\\\[0.7em]\n",
        "     \\end{bmatrix} b = \\begin{bmatrix}\n",
        "       5           \\\\[0.7em]\n",
        "       -3           \\\\[0.7em]\n",
        "       9            \\\\[0.7em]      \n",
        "     \\end{bmatrix}$\n",
        "\n",
        "17) $A = \\begin{bmatrix}\n",
        "       -13 & 6 & -3           \\\\[0.7em]\n",
        "       3 & 12.5 & -4          \\\\[0.7em]\n",
        "       1.5 & 4 & 9          \\\\[0.7em]\n",
        "     \\end{bmatrix} b = \\begin{bmatrix}\n",
        "       4           \\\\[0.7em]\n",
        "       -3           \\\\[0.7em]\n",
        "       -5            \\\\[0.7em]      \n",
        "     \\end{bmatrix}$\n",
        "\n",
        "18) $A = \\begin{bmatrix}\n",
        "       -9 & 5 & -3           \\\\[0.7em]\n",
        "       2 & 13.5 & -4          \\\\[0.7em]\n",
        "       1.5 & 3 & 8          \\\\[0.7em]\n",
        "     \\end{bmatrix} b = \\begin{bmatrix}\n",
        "       -4           \\\\[0.7em]\n",
        "       3           \\\\[0.7em]\n",
        "       -5            \\\\[0.7em]      \n",
        "     \\end{bmatrix}$\n",
        "\n",
        "19) $A = \\begin{bmatrix}\n",
        "       -8 & 2.5 & -3           \\\\[0.7em]\n",
        "       1.5 & 9 & -5          \\\\[0.7em]\n",
        "       5 & 5 & 12          \\\\[0.7em]\n",
        "     \\end{bmatrix} b = \\begin{bmatrix}\n",
        "       -4           \\\\[0.7em]\n",
        "       3           \\\\[0.7em]\n",
        "       8            \\\\[0.7em]      \n",
        "     \\end{bmatrix}$\n",
        "\n",
        "20) $A = \\begin{bmatrix}\n",
        "       -7 & 5 & -3           \\\\[0.7em]\n",
        "       1.5 & 12.2 & -5          \\\\[0.7em]\n",
        "       1.5 & 5 & 12          \\\\[0.7em]\n",
        "     \\end{bmatrix} b = \\begin{bmatrix}\n",
        "       -4.3           \\\\[0.7em]\n",
        "       3.3           \\\\[0.7em]\n",
        "       6            \\\\[0.7em]      \n",
        "     \\end{bmatrix}$\n",
        "\n",
        "21) $A = \\begin{bmatrix}\n",
        "       -11 & 2.5 & -3           \\\\[0.7em]\n",
        "       -1 & 8 & -5          \\\\[0.7em]\n",
        "       5 & 5 & 12          \\\\[0.7em]\n",
        "     \\end{bmatrix} b = \\begin{bmatrix}\n",
        "       4           \\\\[0.7em]\n",
        "       -3           \\\\[0.7em]\n",
        "       8            \\\\[0.7em]      \n",
        "     \\end{bmatrix}$\n",
        "\n",
        "22) $A = \\begin{bmatrix}\n",
        "       3 & 2.5 & 3           \\\\[0.7em]\n",
        "       2 & 8 & -5          \\\\[0.7em]\n",
        "       4 & 2 & 10          \\\\[0.7em]\n",
        "     \\end{bmatrix} b = \\begin{bmatrix}\n",
        "       3           \\\\[0.7em]\n",
        "       -2           \\\\[0.7em]\n",
        "       5            \\\\[0.7em]      \n",
        "     \\end{bmatrix}$\n",
        "\n",
        "23) $A = \\begin{bmatrix}\n",
        "       9 & 4 & 3           \\\\[0.7em]\n",
        "       3 & 10 & -4          \\\\[0.7em]\n",
        "       4 & 2 & 8          \\\\[0.7em]\n",
        "     \\end{bmatrix} b = \\begin{bmatrix}\n",
        "       5           \\\\[0.7em]\n",
        "       -3           \\\\[0.7em]\n",
        "       9            \\\\[0.7em]      \n",
        "     \\end{bmatrix}$\n",
        "\n",
        "24) $A = \\begin{bmatrix}\n",
        "       7 & 2.5 & 3           \\\\[0.7em]\n",
        "       2 & 8 & -5          \\\\[0.7em]\n",
        "       4 & 2 & 11          \\\\[0.7em]\n",
        "     \\end{bmatrix} b = \\begin{bmatrix}\n",
        "       5           \\\\[0.7em]\n",
        "       -5           \\\\[0.7em]\n",
        "       6            \\\\[0.7em]      \n",
        "     \\end{bmatrix}$\n",
        "\n",
        "25) $A = \\begin{bmatrix}\n",
        "       8 & 2.5 & 3           \\\\[0.7em]\n",
        "       2 & 10 & -4          \\\\[0.7em]\n",
        "       4 & 2 & 7          \\\\[0.7em]\n",
        "     \\end{bmatrix} b = \\begin{bmatrix}\n",
        "       5           \\\\[0.7em]\n",
        "       -3           \\\\[0.7em]\n",
        "       9            \\\\[0.7em]      \n",
        "     \\end{bmatrix}$"
      ]
    },
    {
      "cell_type": "markdown",
      "metadata": {
        "id": "cERaGLaUfD9s"
      },
      "source": [
        "## **Разбор примера (Вариант 25)**"
      ]
    },
    {
      "cell_type": "markdown",
      "metadata": {
        "id": "BGEXQxN6fOd5"
      },
      "source": [
        "$A = \\begin{bmatrix}\n",
        "       8 & 2.5 & 3           \\\\[0.7em]\n",
        "       2 & 10 & -4          \\\\[0.7em]\n",
        "       4 & 2 & 7          \\\\[0.7em]\n",
        "     \\end{bmatrix} b = \\begin{bmatrix}\n",
        "       5           \\\\[0.7em]\n",
        "       -3           \\\\[0.7em]\n",
        "       9            \\\\[0.7em]      \n",
        "     \\end{bmatrix}$ **ɛ < 0.001**"
      ]
    },
    {
      "cell_type": "markdown",
      "metadata": {
        "id": "4-5njlMxfrSf"
      },
      "source": [
        "Запишем в виде системы уравнений:"
      ]
    },
    {
      "cell_type": "markdown",
      "metadata": {
        "id": "LmHsy0mqgZWU"
      },
      "source": [
        "$$ \\begin{cases} \n",
        "                    8x_1 + 2.5x_2 + 3x_3 = 5 \\\\[0.7em]\n",
        "                    2x_1 + 10x_2  - 4x_3 = -3 \\\\[0.7em]\n",
        "                    4x_1 + 2x_2 + 7x_3 = 9 \\\\[0.7em]\n",
        "\\end{cases} $$"
      ]
    },
    {
      "cell_type": "markdown",
      "metadata": {
        "id": "4FXGZzZ9ht01"
      },
      "source": [
        "Теперь преобразуем к удобному для итераций виду **$x = Cx + f$**:"
      ]
    },
    {
      "cell_type": "markdown",
      "metadata": {
        "id": "K0VD7F2Lh7dM"
      },
      "source": [
        "$$ \\begin{cases} \n",
        "                    x_1 = \\frac{1}{8}(5 - 2.5x_2 - 3x_3) \\\\[0.7em]\n",
        "                    x_2 = \\frac{1}{10}(-3 - 2x_1 + 4x_3) \\\\[0.7em]\n",
        "                    x_3 = \\frac{1}{7}(9 - 4x_1 - 2x_2) \\\\[0.7em]\n",
        "\\end{cases} $$"
      ]
    },
    {
      "cell_type": "code",
      "metadata": {
        "id": "StD-Ig3bevou",
        "outputId": "56defe89-a60e-4adb-e045-50740f72f82a",
        "colab": {
          "base_uri": "https://localhost:8080/",
          "height": 68
        }
      },
      "source": [
        "print(1/8*(5), 1/8*(-2.5), 1/8*(3),\"\\n\",\n",
        "      1/10*(-3), 1/10*(-2), 1/10*(4),\"\\n\",\n",
        "      1/7*(9) ,1/7*(-4), 1/7*(-2))"
      ],
      "execution_count": null,
      "outputs": [
        {
          "output_type": "stream",
          "text": [
            "0.625 -0.3125 0.375 \n",
            " -0.30000000000000004 -0.2 0.4 \n",
            " 1.2857142857142856 -0.5714285714285714 -0.2857142857142857\n"
          ],
          "name": "stdout"
        }
      ]
    },
    {
      "cell_type": "markdown",
      "metadata": {
        "id": "BUZ-LrYfetC2"
      },
      "source": [
        "$$ \\begin{cases} \n",
        "                    x_1 = 0.625 - 0.3125x_2 - 0.375x_3 \\\\[0.7em]\n",
        "                    x_2 = -0.3 - 0.2x_1 + 0.4x_3 \\\\[0.7em]\n",
        "                    x_3 = 1.28571 - 0.57143x_1 - 0.28571x_2 \\\\[0.7em]\n",
        "\\end{cases} $$"
      ]
    },
    {
      "cell_type": "markdown",
      "metadata": {
        "id": "WVEoAi86j5rY"
      },
      "source": [
        "Метод итерации применяют в случае, если сходится последовательность приближений по указанному алгоритму - норма матрицы принимает значение < 1\n",
        "\n"
      ]
    },
    {
      "cell_type": "markdown",
      "metadata": {
        "id": "wcFXzLxao9M1"
      },
      "source": [
        "$$C = \\begin{bmatrix}\n",
        "       0 & -0.3125 & -0.375           \\\\[0.7em]\n",
        "       -0.2 & 0 & 0.4                 \\\\[0.7em]\n",
        "       -0.57143 & -0.28571 & 0        \\\\[0.7em]\n",
        "     \\end{bmatrix}$$"
      ]
    },
    {
      "cell_type": "markdown",
      "metadata": {
        "id": "aO80ADfRo7ZA"
      },
      "source": [
        "Вычислим **$ ||C||_1 $**"
      ]
    },
    {
      "cell_type": "code",
      "metadata": {
        "id": "YQ4hVXc-ptbs",
        "outputId": "efe6d318-ea22-4aa6-b53f-142bb7dbe63d",
        "colab": {
          "base_uri": "https://localhost:8080/",
          "height": 68
        }
      },
      "source": [
        "C = np.array([\n",
        "              [0, -0.3125, 0.375],\n",
        "              [-0.2, 0, 0.4],\n",
        "              [-0.57143, -0.28571, 0],\n",
        "])\n",
        "C"
      ],
      "execution_count": null,
      "outputs": [
        {
          "output_type": "execute_result",
          "data": {
            "text/plain": [
              "array([[ 0.     , -0.3125 ,  0.375  ],\n",
              "       [-0.2    ,  0.     ,  0.4    ],\n",
              "       [-0.57143, -0.28571,  0.     ]])"
            ]
          },
          "metadata": {
            "tags": []
          },
          "execution_count": 11
        }
      ]
    },
    {
      "cell_type": "code",
      "metadata": {
        "id": "fN-DwdzNrEnJ",
        "outputId": "55053eea-3099-4f68-abd9-19fd5432fb67",
        "colab": {
          "base_uri": "https://localhost:8080/",
          "height": 34
        }
      },
      "source": [
        "normC = max(sum(abs(C[0])),sum(abs(C[1])),sum(abs(C[2])))\n",
        "normC"
      ],
      "execution_count": null,
      "outputs": [
        {
          "output_type": "execute_result",
          "data": {
            "text/plain": [
              "0.85714"
            ]
          },
          "metadata": {
            "tags": []
          },
          "execution_count": 12
        }
      ]
    },
    {
      "cell_type": "markdown",
      "metadata": {
        "id": "N1J2Mcg3sgEY"
      },
      "source": [
        "**$ ||C||_1 $ < 1**  - следует метод должен сойтись."
      ]
    },
    {
      "cell_type": "markdown",
      "metadata": {
        "id": "p-Mtb7i81sob"
      },
      "source": [
        "Запишем уравнения и найдём первое приближение подставив в правую часть вместо $x_1, x_2, x_3$ вектор свободных членов $f$\n"
      ]
    },
    {
      "cell_type": "code",
      "metadata": {
        "id": "GKeXred42Qag",
        "outputId": "b2e754fa-f62c-4577-890e-5c04f28cdb01",
        "colab": {
          "base_uri": "https://localhost:8080/",
          "height": 34
        }
      },
      "source": [
        "x1_0 = 0.625\n",
        "x2_0 = -0.3\n",
        "x3_0 = -1.28571\n",
        "\n",
        "x1_1 = 0.625 - 0.3125*x2_0 - 0.375*x3_0\n",
        "x2_1 = -0.3 - 0.2*x1_0 + 0.4*x3_0\n",
        "x3_1 = 1.28571 - 0.57143*x1_0 - 0.28571*x2_0\n",
        "\n",
        "print(x1_1, x2_1, x3_1)"
      ],
      "execution_count": null,
      "outputs": [
        {
          "output_type": "stream",
          "text": [
            "1.20089125 -0.939284 1.01427925\n"
          ],
          "name": "stdout"
        }
      ]
    },
    {
      "cell_type": "markdown",
      "metadata": {
        "id": "L20sUxHE4Ucw"
      },
      "source": [
        "Оценим погрешность полученную в результате первого приближения\n",
        "$\\frac{q}{1-q}||x^{(k)} - x^{(k-1)}||$, где $q = ||C||$"
      ]
    },
    {
      "cell_type": "code",
      "metadata": {
        "id": "HUvgg_px5wV8",
        "outputId": "c5ac66f7-f39e-434e-e37b-87553a7d079a",
        "colab": {
          "base_uri": "https://localhost:8080/",
          "height": 34
        }
      },
      "source": [
        "err = normC/(1-normC)*max(abs(x1_0-x1_1),abs(x2_0-x2_1),abs(x3_0-x3_1))\n",
        "err"
      ],
      "execution_count": null,
      "outputs": [
        {
          "output_type": "execute_result",
          "data": {
            "text/plain": [
              "13.79961350794484"
            ]
          },
          "metadata": {
            "tags": []
          },
          "execution_count": 36
        }
      ]
    },
    {
      "cell_type": "markdown",
      "metadata": {
        "id": "SlDhnavI69Gs"
      },
      "source": [
        "***13.79961 > 0.001*** Перейдём ко второму и следующим приближениям, пока не будет достигнута требуемая точность."
      ]
    },
    {
      "cell_type": "markdown",
      "metadata": {
        "id": "zwUFNMcW9Rqv"
      },
      "source": [
        "$\\color{red}{\\text{Чтобы не было совсем скучно, допишите код вычислений самостоятельно. Используйте циклы.}}$\n"
      ]
    },
    {
      "cell_type": "markdown",
      "metadata": {
        "id": "PtNBaCmbL-d3"
      },
      "source": [
        "**Метод Зейделя**\n",
        "\n",
        "Метод является модификацией метода простой итерации. Единственное\n",
        "различие в том, что при вычислении (k + 1)-го приближения неизвестного\n",
        "𝒙𝒊 при i > 1 используются уже ранее вычисленные к этому моменту (k + 1)\n",
        "приближения неизвестных на текущей итерации:"
      ]
    },
    {
      "cell_type": "markdown",
      "metadata": {
        "id": "SX4uvrrGMSSs"
      },
      "source": [
        "$$ \\begin{cases} \n",
        "                    x_1^{(k+1)} = 0.625 - 0.3125x_2^{(k)} - 0.375x_3^{(k)} \\\\[0.7em]\n",
        "                    x_2^{(k+1)} = -0.3 - 0.2x_1^{(k+1)} + 0.4x_3^{(k)} \\\\[0.7em]\n",
        "                    x_3^{(k+1)} = 1.28571 - 0.57143x_1^{(k+1)} - 0.28571x_2^{(k+1)} \\\\[0.7em]\n",
        "\\end{cases} $$"
      ]
    },
    {
      "cell_type": "markdown",
      "metadata": {
        "id": "BFRqg0qONOrz"
      },
      "source": [
        "**Не забываем в ответе указать какой метод получился быстрее и насколько.**"
      ]
    }
  ]
}