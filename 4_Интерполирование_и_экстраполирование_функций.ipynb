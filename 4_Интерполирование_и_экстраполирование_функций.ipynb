{
  "nbformat": 4,
  "nbformat_minor": 0,
  "metadata": {
    "colab": {
      "name": "4 Интерполирование и экстраполирование функций.ipynb",
      "provenance": [],
      "collapsed_sections": [],
      "authorship_tag": "ABX9TyNRX8HLLuAiBSuXx/GEDECw"
    },
    "kernelspec": {
      "name": "python3",
      "display_name": "Python 3"
    }
  },
  "cells": [
    {
      "cell_type": "markdown",
      "metadata": {
        "id": "wb-oyM_8CB95"
      },
      "source": [
        "# **Интерполирование и экстраполирование функций**"
      ]
    },
    {
      "cell_type": "markdown",
      "metadata": {
        "id": "Bt4xk3_0Y9YD"
      },
      "source": [
        "Аппроксимация (приближение) функции – отыскание более простой функции близкой к исходной.\n",
        "\n",
        "При интерполировании интерполирующая функция строго проходит\n",
        "через узловые точки таблицы вследствие того, что количество\n",
        "коэффициентов в интерполирующей функции равно количеству табличных\n",
        "значений. \n",
        "\n",
        "**Задачи:**\n",
        "\n",
        "1. Требуется найти $x^∗$, которого нет среди известных значений. Можно построить аппроксимирующую функцию $g(x)$, близкую на множестве узлов $x_1…x_n$ к исходной $f(x)$. И вероятно $f(x^∗ )≈g(x^∗ )$.\n",
        "\n",
        "2. Функция $f(x)$ может быть задана формулой (аналитически)\n",
        "слишком сложной/тяжёлой для регулярного применения. В\n",
        "таком случае исходную функцию $f(x)$ также выгодно\n",
        "заменить аппроксимирующей функцией $g(x)$."
      ]
    },
    {
      "cell_type": "markdown",
      "metadata": {
        "id": "1BgH64j4syqN"
      },
      "source": [
        "В качестве интерполирующих функций как правило наиболее удобны многочлены. \n",
        "\n",
        "$ P_n(x) = b_0 + b_1x + b_2x^2 + ... + b_nx^n $ - вид по канону"
      ]
    },
    {
      "cell_type": "code",
      "metadata": {
        "id": "8_DdMfWofEeN"
      },
      "source": [
        "import numpy as np # импортируем библиотеку numpy для продвинутых математических вычислений\n",
        "import matplotlib.pyplot as plt # импортируем библиотеку matplotlib для визуализации, построения графиков\n",
        "%matplotlib inline"
      ],
      "execution_count": null,
      "outputs": []
    },
    {
      "cell_type": "markdown",
      "metadata": {
        "id": "1AsUHxOJf5H1"
      },
      "source": [
        "Аппроксимировать функцию проходящую через 2 точки можно прямой, 3 точки - параболой, 4 точки - кубическим многочленом и т.д."
      ]
    },
    {
      "cell_type": "code",
      "metadata": {
        "id": "CIwdmritBibz",
        "outputId": "ca736c7e-ff7c-4354-839a-bfb7ebe2d285",
        "colab": {
          "base_uri": "https://localhost:8080/",
          "height": 295
        }
      },
      "source": [
        "x = np.linspace(-4, 4, 100)\n",
        "\n",
        "plt.plot(x, 2*x+3, \"r--\", label='Прямая')\n",
        "plt.plot(x, x**2-12*x, label='Парабола')\n",
        "plt.plot(x, x**3-6*x**2+12*x+50, label='Кубическая функция')\n",
        "\n",
        "plt.xlabel('Ось X')\n",
        "plt.ylabel('Ось Y')\n",
        "\n",
        "plt.title(\"Графики функций\")\n",
        "\n",
        "plt.legend()\n",
        "\n",
        "plt.show()"
      ],
      "execution_count": null,
      "outputs": [
        {
          "output_type": "display_data",
          "data": {
            "image/png": "[encoded data removed]",
            "text/plain": [
              "<Figure size 432x288 with 1 Axes>"
            ]
          },
          "metadata": {
            "tags": [],
            "needs_background": "light"
          }
        }
      ]
    },
    {
      "cell_type": "markdown",
      "metadata": {
        "id": "rABI7I58WLqa"
      },
      "source": [
        "Пусть дана таблица значений функции полученная в результате эксперимента:\n",
        "\n",
        "$\\begin{array}{| c | c | c | c | c | c |} \\hline\n",
        "  \\textbf{x}  & x_0 & x_1 & x_2 & x_3 &  x_4 &  x_5    \\\\ \\hline\n",
        "\\textbf{f(x)} &  f(x_0) & f(x_1) &  f(x_2) &  f(x_3) &   f(x_4) &  f(x_5) \\\\ \\hline\n",
        "\\end{array}$\n"
      ]
    },
    {
      "cell_type": "markdown",
      "metadata": {
        "id": "3S8uc5OU4tFA"
      },
      "source": [
        "Если значение функции $x$ лежит между узлами интерполяции, то приближённое отыскание значения $f(x)$ называется **интерполированием**.  \n",
        "\n",
        "Если значение функции $x$ лежит левее или правее узлов интерполяции (за пределами заданного интервала), то приближённое отыскание значения $f(x)$ называется **экстраполированием**."
      ]
    },
    {
      "cell_type": "markdown",
      "metadata": {
        "id": "a1rqbeUFLyPf"
      },
      "source": [
        "## **Интерполяционный полином Лагранжа**"
      ]
    },
    {
      "cell_type": "markdown",
      "metadata": {
        "id": "cXhewnjZNCdc"
      },
      "source": [
        "Интерполяционный многочлен определяется формулой\n",
        "\n",
        "### $ L_n(x) = \\sum\\limits_{i=0}^n\n",
        "y_i \\frac{(x - x_0)(x - x_1) ... (x - x_{i-1})(x - x_{i+1}) ... (x - x_n)}\n",
        "     {(x_i - x_0)(x_i - x_1) ... (x_i - x_{i-1})(x_i - x_{i+1}) ... (x_i - x_n)} $\n",
        "\n",
        "т.е., из числителя вычеркивается $(x−x_i)$, а из знаменателя $(x_i−x_i)$"
      ]
    },
    {
      "cell_type": "markdown",
      "metadata": {
        "id": "JA8Cy_mTPK2a"
      },
      "source": [
        "### **Погрешность**\n",
        "\n",
        "Для оценки погрешности интерполянты можно воспользоваться формулой:\n",
        "\n"
      ]
    },
    {
      "cell_type": "markdown",
      "metadata": {
        "id": "19uU9wwzQk5t"
      },
      "source": [
        "### $ R_n(x) <= \\frac{M_{n-1}}{(n+1)!} |(x - x_0)(x - x_1) ... (x - x_n)|$,\n",
        "\n",
        "где\n",
        "\n",
        "$ M_{n-1} = \n",
        "\\max_{x \\in [a;b]}\n",
        " |f^{(n+1)}(x)| $ - максимальное значение на отрезке интерполяции n+1 производной функции\n"
      ]
    },
    {
      "cell_type": "markdown",
      "metadata": {
        "id": "HtFqe0YYMI50"
      },
      "source": [
        "## **Интерполяционная формула Ньютона**"
      ]
    },
    {
      "cell_type": "markdown",
      "metadata": {
        "id": "gWEj3hp_UYNL"
      },
      "source": [
        "Интерполяционной формулой Ньютона называется многочлен вида\n",
        "\n",
        "$ P_n(x) = y_0 + f(x_0;x_1)(x-x_0) + f(x_0;x_1;)(x-x_0)(x-x_1) + ... + f(x_0;x_1;...;x_n)(x-x_0)(x-x_1)...(x-x_n) $\n",
        "\n",
        "\n",
        "В случае равноотстоящих узлов с шагом h формула приобретает вид\n",
        "\n",
        "$ P_n(x) = y_0 + \\frac{\\Delta y_0}{h}(x-x_0) + \\frac{\\Delta^2 y_0}{2!h^2}(x-x_0)(x-x_1) + ... + \\frac{\\Delta^n y_0}{n!h^n}(x-x_0)(x-x_1)...(x-x_n) $"
      ]
    },
    {
      "cell_type": "markdown",
      "metadata": {
        "id": "YGYA8pVaWh62"
      },
      "source": [
        "$\\Delta y_0, \\Delta^2 y_0, \\Delta^n y_0 $ рассчитываются по формулам:\n",
        "\n",
        "\n",
        "$\\Delta y_0 = y_1 - y_0$\n",
        "\n",
        "$\\Delta^2 y_0 = \\Delta y_1 - \\Delta y_0$\n",
        "\n",
        "$\\Delta^{n} y_0 = \\Delta^{n-1} y_1 - \\Delta^{n-1} y_0$"
      ]
    },
    {
      "cell_type": "markdown",
      "metadata": {
        "id": "FGnDghBerWnx"
      },
      "source": [
        "$\\begin{array}{| c | c | c | c | c | c |} \\hline \n",
        "\\color{gray}{f(x)} &  \\color{gray}{y_0}  &  \\color{gray}{y_1}  &  \\color{gray}{y_2}  &  \\color{gray}{y_3}  &   \\color{gray}{y_4}  &  \\color{gray}{y_5}   \\\\ \\hline\n",
        "\\color{gray}{f(x)} &  2  &  -3  &  4  &  3  &   5  &  4.5    \\\\ \\hline\n",
        "\\color{gray}{f'(x)} & \\color{gray}{\\Delta y_0 = y_1-y_0}  &  \\color{gray}{\\Delta y_1 = y_2-y_1} &  \\color{gray}{\\Delta y_2 = y_3-y_2} &  \\color{gray}{\\Delta y_3 = y_4-y_3} &   \\color{gray}{\\Delta y_4 = y_4-y_5} &   \\\\ \\hline\n",
        "\\color{gray}{f'(x)} &  -5  &  7  &  -1  &  2  &   0.5  &     \\\\ \\hline\n",
        "\\color{gray}{f''(x)} &  \\color{gray}{\\Delta^2 y_0 = \\Delta y_1-\\Delta y_0} &  \\color{gray}{\\Delta^2 y_0 = \\Delta y_2- \\Delta y_1} &  \\color{gray}{\\Delta^2 y_0 = \\Delta y_3- \\Delta y_2} &  \\color{gray}{\\Delta^2 y_0 = \\Delta y_4-\\Delta y_3} &    &     \\\\ \\hline\n",
        "\\color{gray}{f''(x)} &  12 &  -8 &  3 &  -1.5 &    &     \\\\ \\hline\n",
        "\\color{gray}{f'''(x)} &  \\color{gray}{\\Delta^3 y_0 = \\Delta^2 y_1-\\Delta^2 y_0} &  \\color{gray}{\\Delta^3 y_0 = \\Delta^2 y_2- \\Delta^2 y_1} &  \\color{gray}{\\Delta^3 y_0 = \\Delta^2 y_3- \\Delta^2 y_2} &  &  &   \\\\ \\hline\n",
        "\\color{gray}{f'''(x)} &  -20 &  11 &  -4.5 &  &  &     \\\\ \\hline\n",
        "\\color{gray}{f''''(x)} &  \\color{gray}{\\Delta^4 y_0 = \\Delta^3 y_1-\\Delta^3 y_0} &  \\color{gray}{\\Delta^4 y_0 = \\Delta^3 y_2- \\Delta^3 y_1} &  &  &  &   \\\\ \\hline\n",
        "\\color{gray}{f''''(x)} &  31 &  -15.5 &  &  &  &     \\\\ \\hline\n",
        "\\color{gray}{f'''''(x)} &  \\color{gray}{\\Delta^5 y_0 = \\Delta^4 y_1-\\Delta^4 y_0} &  &  &  &  &   \\\\ \\hline\n",
        "\\color{gray}{f'''''(x)} &  -46.5 &   &  &  &  &     \\\\ \\hline\n",
        "\\end{array}$\n"
      ]
    },
    {
      "cell_type": "markdown",
      "metadata": {
        "id": "cjno8iidXUjc"
      },
      "source": [
        "Таким образом формула для 2, 3, 4 узлов примет вид:\n",
        "\n",
        "$ P_1(x) = y_0 + \\frac{\\Delta y_0}{h}(x-x_0) $\n",
        "\n",
        "$ P_2(x) = y_0 + \\frac{\\Delta y_0}{h}(x-x_0) + \\frac{\\Delta^2 y_0}{2h^2}(x-x_0)(x-x_1) $\n",
        "\n",
        "$ P_3(x) = y_0 + \\frac{\\Delta y_0}{h}(x-x_0) + \\frac{\\Delta^2 y_0}{2!h^2}(x-x_0)(x-x_1) + \\frac{\\Delta^3 y_0}{6h^3}(x-x_0)(x-x_1)(x-x_2) $"
      ]
    },
    {
      "cell_type": "markdown",
      "metadata": {
        "id": "A-S9cawE0DT0"
      },
      "source": [
        " ## **Задание**\n",
        "\n",
        "На основе исходных данных (своего варианта задания) необходимо: \n",
        "\n",
        "1) Построить формулу интерполяционного многочлена Лагранжа. Привести к каноническому виду многочлена. \n",
        "\n",
        "2) Построить формулу интерполяционного многочлена Ньютона.\n",
        "\n",
        "3) Построить графики этих функций показывающие зависимость изменения переменных. Добавить подписи данных аналогично **примеру ниже**. Подобрать размеры графика/осей, чтобы все подписи и значения аккурутно вмещались без лишних пустых мест.\n",
        "\n",
        "4) Используя полученные уравне\n",
        "\n",
        "ния найти значение функции в точках $x_a = 6$; $x_b = 4.5$. Отметить точки голубым цветом добавив строчку **со своими значениями** на  графике:\n",
        "```\n",
        "plt.plot([6,7],[5,4.5],'ro',color='c')\n",
        "```\n",
        "Добавить в легенду подпись 'Восстановление значений'\n",
        "\n"
      ]
    },
    {
      "cell_type": "markdown",
      "metadata": {
        "id": "QHdnV9q0h2rI"
      },
      "source": [
        "### **Пример ниже**\n",
        "\n",
        "Даны экспериментальные данные:\n",
        "\n",
        "$\\begin{array}{| c | c | c | c | c | c |} \\hline\n",
        "  \\color{gray}{x}  &  0 \\hspace{10mm} &   1 \\hspace{10mm} &  2 \\hspace{10mm} &  3 \\hspace{10mm} &   4 \\hspace{10mm} &   5 \\hspace{10mm}   \\\\ \\hline\n",
        "\\color{gray}{f(x)} &  2 \\hspace{10mm} &  -3 \\hspace{10mm} &  4 \\hspace{10mm} &  3 \\hspace{10mm} &   5 \\hspace{10mm} &  4.5  \\hspace{10mm}   \\\\ \\hline\n",
        "\\end{array}$\n",
        "\n",
        "\n",
        "Отметим точки на координатном поле и интерполируем прямой крайние точки."
      ]
    },
    {
      "cell_type": "markdown",
      "metadata": {
        "id": "fCmxpiIyqY2e"
      },
      "source": [
        "Интерполяционный многочлен Лагранжа примет вид:\n",
        "\n",
        "$ L_1(x) = y_0 \\frac{(x - x_5)}{(x_0 - x_5)}+y_5\\frac{(x - x_0)}{(x_5 - x_0)} $\n",
        "\n",
        "или **$\\color{red}{\\text{(попробуйте сделать преобразование из одной формы в другую самостоятельно)}}$**\n",
        "\n",
        "$ L_1(x) = y_0 + (y_5 - y_0)\\frac{x - x_0}{x_5 - x_0}$\n",
        "\n",
        "\n",
        "\n",
        "$ L_1(x) = 2 + (4.5-2)\\frac{x - 0}{5 - 0} = 0.5x + 2$\n",
        "\n",
        "\n"
      ]
    },
    {
      "cell_type": "code",
      "metadata": {
        "id": "3Lu0qhodkt-J",
        "outputId": "4c0e421c-1c1c-4a1d-8b6a-8fe8880ccf58",
        "colab": {
          "base_uri": "https://localhost:8080/",
          "height": 300
        }
      },
      "source": [
        "plt.axis([-1,7, -5,15]) # размеры координатного поля [-1, 7] по x; [-5, 15] по y\n",
        "plt.title('Интерполяция', fontsize=20) # заголовок\n",
        "plt.xlabel('X', color='gray') # подписи осей\n",
        "plt.ylabel('Y',color='gray')\n",
        "plt.text(0,2,'(0;2)') # подписи точек (текст и его координаты). Можно разместить посимпатичнее/без нахлёста.\n",
        "plt.text(1,-3,'(1;-3)')\n",
        "plt.text(2,4,'(2;4)')\n",
        "plt.text(3,3,'(3;3)')\n",
        "plt.text(4,5,'(4;5)')\n",
        "plt.text(5,4.5,'(5;4.5)')\n",
        "plt.text(3.2, 10, r'$y = 0.5x + 2$', fontsize=20, bbox={'facecolor':'yellow','alpha':0.2})  # координаты, текст, оформление уравнения\n",
        "plt.grid(True) # сетка\n",
        "plt.plot([0,1,2,3,4,5],[2,-3,4,3,5,4.5],'ro') # точки кружочками\n",
        "x = np.linspace(0, 5, 100) # массив равномерно раскинутых точек\n",
        "y = 0.5*x+2 # значение функции в выше определённых точках\n",
        "plt.plot(x,y,'-') # заполнить график сплошной линией\n",
        "plt.legend(['Исходные значения','Интерполянта'], loc=2)  # легенда (обозначение/подпись наборов данных) и её расположение\n",
        "plt.show() # отобразить результат "
      ],
      "execution_count": null,
      "outputs": [
        {
          "output_type": "display_data",
          "data": {
            "image/png": "[encoded data removed]",
            "text/plain": [
              "<Figure size 432x288 with 1 Axes>"
            ]
          },
          "metadata": {
            "tags": [],
            "needs_background": "light"
          }
        }
      ]
    },
    {
      "cell_type": "markdown",
      "metadata": {
        "id": "Zq_xRL2zhZQ1"
      },
      "source": [
        "Построим полином для первых 4 точек таблицы:"
      ]
    },
    {
      "cell_type": "markdown",
      "metadata": {
        "id": "FyKD7L_wh5x1"
      },
      "source": [
        "\n",
        "$ L_3(x) = \n",
        "y_0 \\frac{(x - x_1)(x - x_2)(x - x_3)}\n",
        "{(x_0 - x_1)(x_0 - x_2)(x_0 - x_3)}\n",
        "+y_1\\frac{(x - x_0)(x - x_2)(x - x_3)}\n",
        "{(x_1 - x_0)(x_1 - x_2)(x_1 - x_3)}\n",
        "+y_2\\frac{(x - x_0)(x - x_1)(x - x_3)}\n",
        "{(x_2 - x_0)(x_2 - x_1)(x_2 - x_3)}\n",
        "+y_3\\frac{(x - x_0)(x - x_1)(x - x_2)}\n",
        "{(x_3 - x_0)(x_3 - x_1)(x_3 - x_2)} $\n",
        "\n",
        "\n",
        "Осталось подставить известные значения и раскрыть скобки.\n",
        "\n",
        "\n",
        "$ L_3(x) = \n",
        "y_0 \\frac{(x - 1)(x - 2)(x - 3)}\n",
        "{(0 - 1)(0 - 2)(0 - 3)}\n",
        "+y_1\\frac{(x - 0)(x - 2)(x - 3)}\n",
        "{(1 - 0)(1 - 2)(1 - 3)}\n",
        "+y_2\\frac{(x - 0)(x - 1)(x - 3)}\n",
        "{(2 - 0)(2 - 1)(2 - 3)}\n",
        "+y_3\\frac{(x - 0)(x - 1)(x - 2)}\n",
        "{(3 - 0)(3 - 1)(3 - 2)} $\n",
        "\n",
        "Сначала раскроем скобки в знаменателях:\n",
        "\n",
        "$ L_3(x) = \n",
        "2 \\frac{(x - 1)(x - 2)(x - 3)}\n",
        "{-6}\n",
        "+(-3)\\frac{(x - 0)(x - 2)(x - 3)}\n",
        "{2}\n",
        "+4\\frac{(x - 0)(x - 1)(x - 3)}\n",
        "{-2}\n",
        "+3\\frac{(x - 0)(x - 1)(x - 2)}\n",
        "{6} $\n",
        "\n"
      ]
    },
    {
      "cell_type": "markdown",
      "metadata": {
        "id": "IAuS5NWGusN5"
      },
      "source": [
        "Перейдём к числителям:\n",
        "\n",
        "$(x - 1)(x - 2)(x - 3) = (x-1)(x^2 - 5x + 6) = (x^3 - 5x^2 + 6x) - (x^2 - 5x + 6) = x^3 - 6x^2 + 11x - 6$\n",
        "\n",
        "$(x - 0)(x - 2)(x - 3) = x(x^2 - 5x + 6) = x^3 - 5x^2 + 6x$\n",
        "\n",
        "$(x - 0)(x - 1)(x - 3) = x(x^2 - 4x + 3) = x^3 - 4x^2 + 3x$\n",
        "\n",
        "$(x - 0)(x - 1)(x - 2) = x(x^2 - 3x + 2) = x^3 - 3x^2 + 2x$\n",
        "\n",
        "Подставим в уравнение: \n",
        "\n",
        "$ L_3(x) = \n",
        "2 \\frac{x^3 - 6x^2 + 11x - 6}\n",
        "{-6}\n",
        "+(-3)\\frac{x^3 - 5x^2 + 6x}\n",
        "{2}\n",
        "+4\\frac{x^3 - 4x^2 + 3x}\n",
        "{-2}\n",
        "+3\\frac{x^3 - 3x^2 + 2x}\n",
        "{6} $\n",
        "\n",
        "**Почти красиво!**"
      ]
    },
    {
      "cell_type": "markdown",
      "metadata": {
        "id": "yovaSCW-vSxL"
      },
      "source": [
        "Время избавляться от знаменателей:\n",
        "\n",
        "$ L_3(x) = \n",
        "-\\frac{2}{6}(x^3 - 6x^2 + 11x - 6)\n",
        "-\\frac{3}{2}(x^3 - 5x^2 + 6x)\n",
        "-\\frac{4}{2}(x^3 - 4x^2 + 3x)\n",
        "+\\frac{3}{6}(x^3 - 3x^2 + 2x)\n",
        " $\n",
        "\n",
        "\n",
        "$ L_3(x) = \n",
        "-\\frac{2}{6}(x^3 - 6x^2 + 11x - 6)\n",
        "-1.5(x^3 - 5x^2 + 6x)\n",
        "-2(x^3 - 4x^2 + 3x)\n",
        "+0.5(x^3 - 3x^2 + 2x)\n",
        " $\n",
        "\n",
        "$ L_3(x) = \n",
        "-\\frac{2}{6}x^3 + \\frac{2}{6}*6x^2 -\\frac{2}{6}*11x +\\frac{2}{6}*6\n",
        "-1.5x^3 +1.5*5x^2 -1.5*6x\n",
        "-2x^3 + 2*4x^2 -2*3x\n",
        "+0.5x^3 - 0.5*3x^2 + 0.5*2x\n",
        " $\n",
        "\n",
        "\n",
        "$ L_3(x) = \n",
        "-\\frac{2}{6}x^3 + 2x^2 -\\frac{22}{6}x + 2\n",
        "-1.5x^3 +7.5x^2 -9x\n",
        "-2x^3 + 8x^2 -6x\n",
        "+0.5x^3 - 1.5x^2 + x\n",
        " $\n",
        "\n",
        " \n",
        "$ L_3(x) = \n",
        "-\\frac{2}{6}x^3 + 2x^2 -\\frac{22}{6}x + 2\n",
        "-3x^3 +14x^2 -14x\n",
        " $"
      ]
    },
    {
      "cell_type": "markdown",
      "metadata": {
        "id": "ycTyyppxyul1"
      },
      "source": [
        "Приходим к каноническому виду:\n",
        "\n",
        "$ L_3(x) = \n",
        "-3.333333x^3 + 15x^2 - 17.666666x + 2\n",
        " $"
      ]
    },
    {
      "cell_type": "markdown",
      "metadata": {
        "id": "UqylaGRM1Lff"
      },
      "source": [
        "Осталось построить график:"
      ]
    },
    {
      "cell_type": "code",
      "metadata": {
        "id": "j7m7uG1v1KBi",
        "outputId": "e2a5e28d-a191-4639-bd6c-3281a82ceb4c",
        "colab": {
          "base_uri": "https://localhost:8080/",
          "height": 300
        }
      },
      "source": [
        "plt.axis([-1,7, -5,15]) # размеры координатного поля [-1, 7] по x; [-5, 15] по y\n",
        "plt.title('Интерполяция', fontsize=20) # заголовок\n",
        "plt.xlabel('X', color='gray') # подписи осей\n",
        "plt.ylabel('Y',color='gray')\n",
        "plt.text(0,2,'(0;2)') # подписи точек (текст и его координаты). Можно разместить посимпатичнее/без нахлёста.\n",
        "plt.text(1,-3,'(1;-3)')\n",
        "plt.text(2,4,'(2;4)')\n",
        "plt.text(3,3,'(3;3)')\n",
        "plt.text(4,5,'(4;5)')\n",
        "plt.text(5,4.5,'(5;4.5)')\n",
        "plt.text(-0.9, 9.2, r'$y = -3.333333x^3 + 16x^2 -17.666666x + 2$', fontsize=15, bbox={'facecolor':'yellow','alpha':0.2})  # координаты, текст, оформление уравнения\n",
        "plt.grid(True) # сетка\n",
        "plt.plot([0,1,2,3,4,5],[2,-3,4,3,5,4.5],'ro') # точки кружочками\n",
        "x = np.linspace(0, 3, 100) # массив равномерно раскинутых точек\n",
        "y = -3.333333*x**3 + 16*x**2 -17.666666*x + 2 # значение функции в выше определённых точках\n",
        "plt.plot(x,y,'-') # заполнить график сплошной линией\n",
        "plt.legend(['Исходные значения','Интерполянта'], loc=2)  # легенда (обозначение/подпись наборов данных) и её расположение\n",
        "plt.show() # отобразить результат "
      ],
      "execution_count": null,
      "outputs": [
        {
          "output_type": "display_data",
          "data": {
            "image/png": "[encoded data removed]",
            "text/plain": [
              "<Figure size 432x288 with 1 Axes>"
            ]
          },
          "metadata": {
            "tags": [],
            "needs_background": "light"
          }
        }
      ]
    },
    {
      "cell_type": "markdown",
      "metadata": {
        "id": "xQaYJmSn5rUl"
      },
      "source": [
        "## **Варианты заданий**\n",
        "\n",
        "Даны экспериментальные данные:\n",
        "\n",
        "1) $\\begin{array}{| c | c | c | c | c | c |} \\hline\n",
        "\\color{gray}{x}&\\ 0 \\hspace{10mm} &\\ 1 \\hspace{10mm} &\\ 2 \\hspace{10mm} &\\ 3 \\hspace{10mm} &\\ 4 \\hspace{10mm} &\\ 5 \\hspace{10mm}  \\\\ \\hline\n",
        "\\color{gray}{f(x)}&2 \\hspace{10mm} &-3 \\hspace{10mm} &2 \\hspace{10mm} &7 \\hspace{10mm} &6 \\hspace{10mm} &5 \\hspace{10mm}  \\\\ \\hline\n",
        "\\end{array}$\n",
        "\n",
        "2) $\\begin{array}{| c | c | c | c | c | c |} \\hline\n",
        "\\color{gray}{x}&\\ 0 \\hspace{10mm} &\\ 1 \\hspace{10mm} &\\ 2 \\hspace{10mm} &\\ 3 \\hspace{10mm} &\\ 4 \\hspace{10mm} &\\ 5 \\hspace{10mm}  \\\\ \\hline\n",
        "\\color{gray}{f(x)}&2 \\hspace{10mm} &-3 \\hspace{10mm} &4 \\hspace{10mm} &3 \\hspace{10mm} &5 \\hspace{10mm} &4.5 \\hspace{10mm}  \\\\ \\hline\n",
        "\\end{array}$\n",
        "\n",
        "3) $\\begin{array}{| c | c | c | c | c | c |} \\hline\n",
        "\\color{gray}{x}&\\ 0 \\hspace{10mm} &\\ 1 \\hspace{10mm} &\\ 2 \\hspace{10mm} &\\ 3 \\hspace{10mm} &\\ 4 \\hspace{10mm} &\\ 5 \\hspace{10mm}  \\\\ \\hline\n",
        "\\color{gray}{f(x)}&3 \\hspace{10mm} &-2 \\hspace{10mm} &7 \\hspace{10mm} &3 \\hspace{10mm} &2.5 \\hspace{10mm} &4.5 \\hspace{10mm}  \\\\ \\hline\n",
        "\\end{array}$\n",
        "\n",
        "4) $\\begin{array}{| c | c | c | c | c | c |} \\hline\n",
        "\\color{gray}{x}&\\ 0 \\hspace{10mm} &\\ 1 \\hspace{10mm} &\\ 2 \\hspace{10mm} &\\ 3 \\hspace{10mm} &\\ 4 \\hspace{10mm} &\\ 5 \\hspace{10mm}  \\\\ \\hline\n",
        "\\color{gray}{f(x)}&1 \\hspace{10mm} &-4 \\hspace{10mm} &4 \\hspace{10mm} &3.5 \\hspace{10mm} &5 \\hspace{10mm} &5.5 \\hspace{10mm}  \\\\ \\hline\n",
        "\\end{array}$\n",
        "\n",
        "5) $\\begin{array}{| c | c | c | c | c | c |} \\hline\n",
        "\\color{gray}{x}&\\ 0 \\hspace{10mm} &\\ 1 \\hspace{10mm} &\\ 2 \\hspace{10mm} &\\ 3 \\hspace{10mm} &\\ 4 \\hspace{10mm} &\\ 5 \\hspace{10mm}  \\\\ \\hline\n",
        "\\color{gray}{f(x)}&-2 \\hspace{10mm} &-3 \\hspace{10mm} &2.4 \\hspace{10mm} &1 \\hspace{10mm} &6 \\hspace{10mm} &4.5 \\hspace{10mm}  \\\\ \\hline\n",
        "\\end{array}$\n",
        "\n",
        "6) $\\begin{array}{| c | c | c | c | c | c |} \\hline\n",
        "\\color{gray}{x}&\\ 0 \\hspace{10mm} &\\ 1 \\hspace{10mm} &\\ 2 \\hspace{10mm} &\\ 3 \\hspace{10mm} &\\ 4 \\hspace{10mm} &\\ 5 \\hspace{10mm}  \\\\ \\hline\n",
        "\\color{gray}{f(x)}&2 \\hspace{10mm} &-2 \\hspace{10mm} &4 \\hspace{10mm} &4 \\hspace{10mm} &5 \\hspace{10mm} &2.5 \\hspace{10mm}  \\\\ \\hline\n",
        "\\end{array}$\n",
        "\n",
        "7) $\\begin{array}{| c | c | c | c | c | c |} \\hline\n",
        "\\color{gray}{x}&\\ 0 \\hspace{10mm} &\\ 1 \\hspace{10mm} &\\ 2 \\hspace{10mm} &\\ 3 \\hspace{10mm} &\\ 4 \\hspace{10mm} &\\ 5 \\hspace{10mm}  \\\\ \\hline\n",
        "\\color{gray}{f(x)}&1 \\hspace{10mm} &-2 \\hspace{10mm} &7 \\hspace{10mm} &3 \\hspace{10mm} &3.5 \\hspace{10mm} &2.5 \\hspace{10mm}  \\\\ \\hline\n",
        "\\end{array}$\n",
        "\n",
        "8) $\\begin{array}{| c | c | c | c | c | c |} \\hline\n",
        "\\color{gray}{x}&\\ 0 \\hspace{10mm} &\\ 1 \\hspace{10mm} &\\ 2 \\hspace{10mm} &\\ 3 \\hspace{10mm} &\\ 4 \\hspace{10mm} &\\ 5 \\hspace{10mm}  \\\\ \\hline\n",
        "\\color{gray}{f(x)}&2 \\hspace{10mm} &-3 \\hspace{10mm} &4 \\hspace{10mm} &3 \\hspace{10mm} &5 \\hspace{10mm} &4.5 \\hspace{10mm}  \\\\ \\hline\n",
        "\\end{array}$\n",
        "\n",
        "9) $\\begin{array}{| c | c | c | c | c | c |} \\hline\n",
        "\\color{gray}{x}&\\ 0 \\hspace{10mm} &\\ 1 \\hspace{10mm} &\\ 2 \\hspace{10mm} &\\ 3 \\hspace{10mm} &\\ 4 \\hspace{10mm} &\\ 5 \\hspace{10mm}  \\\\ \\hline\n",
        "\\color{gray}{f(x)}&1 \\hspace{10mm} &-3 \\hspace{10mm} &2 \\hspace{10mm} &3 \\hspace{10mm} &7 \\hspace{10mm} &4.5 \\hspace{10mm}  \\\\ \\hline\n",
        "\\end{array}$\n",
        "\n",
        "10) $\\begin{array}{| c | c | c | c | c | c |} \\hline\n",
        "\\color{gray}{x}&\\ 0 \\hspace{10mm} &\\ 1 \\hspace{10mm} &\\ 2 \\hspace{10mm} &\\ 3 \\hspace{10mm} &\\ 4 \\hspace{10mm} &\\ 5 \\hspace{10mm}  \\\\ \\hline\n",
        "\\color{gray}{f(x)}&3 \\hspace{10mm} &-4 \\hspace{10mm} &4 \\hspace{10mm} &2 \\hspace{10mm} &1 \\hspace{10mm} &4.5 \\hspace{10mm}  \\\\ \\hline\n",
        "\\end{array}$\n",
        "\n",
        "11) $\\begin{array}{| c | c | c | c | c | c |} \\hline\n",
        "\\color{gray}{x}&\\ 0 \\hspace{10mm} &\\ 1 \\hspace{10mm} &\\ 2 \\hspace{10mm} &\\ 3 \\hspace{10mm} &\\ 4 \\hspace{10mm} &\\ 5 \\hspace{10mm}  \\\\ \\hline\n",
        "\\color{gray}{f(x)}&7 \\hspace{10mm} &3 \\hspace{10mm} &4 \\hspace{10mm} &2 \\hspace{10mm} &-2 \\hspace{10mm} &4.5 \\hspace{10mm}  \\\\ \\hline\n",
        "\\end{array}$\n",
        "\n",
        "12) $\\begin{array}{| c | c | c | c | c | c |} \\hline\n",
        "\\color{gray}{x}&\\ 0 \\hspace{10mm} &\\ 1 \\hspace{10mm} &\\ 2 \\hspace{10mm} &\\ 3 \\hspace{10mm} &\\ 4 \\hspace{10mm} &\\ 5 \\hspace{10mm}  \\\\ \\hline\n",
        "\\color{gray}{f(x)}&8 \\hspace{10mm} &6 \\hspace{10mm} &-1 \\hspace{10mm} &2 \\hspace{10mm} &-2 \\hspace{10mm} &4.5 \\hspace{10mm}  \\\\ \\hline\n",
        "\\end{array}$\n",
        "\n",
        "13) $\\begin{array}{| c | c | c | c | c | c |} \\hline\n",
        "\\color{gray}{x}&\\ 0 \\hspace{10mm} &\\ 1 \\hspace{10mm} &\\ 2 \\hspace{10mm} &\\ 3 \\hspace{10mm} &\\ 4 \\hspace{10mm} &\\ 5 \\hspace{10mm}  \\\\ \\hline\n",
        "\\color{gray}{f(x)}&4 \\hspace{10mm} &3 \\hspace{10mm} &4 \\hspace{10mm} &3 \\hspace{10mm} &-1 \\hspace{10mm} &2.5 \\hspace{10mm}  \\\\ \\hline\n",
        "\\end{array}$\n",
        "\n",
        "14) $\\begin{array}{| c | c | c | c | c | c |} \\hline\n",
        "\\color{gray}{x}&\\ 0 \\hspace{10mm} &\\ 1 \\hspace{10mm} &\\ 2 \\hspace{10mm} &\\ 3 \\hspace{10mm} &\\ 4 \\hspace{10mm} &\\ 5 \\hspace{10mm}  \\\\ \\hline\n",
        "\\color{gray}{f(x)}&5 \\hspace{10mm} &6 \\hspace{10mm} &4 \\hspace{10mm} &1 \\hspace{10mm} &-3 \\hspace{10mm} &5 \\hspace{10mm}  \\\\ \\hline\n",
        "\\end{array}$\n",
        "\n",
        "15) $\\begin{array}{| c | c | c | c | c | c |} \\hline\n",
        "\\color{gray}{x}&\\ 0 \\hspace{10mm} &\\ 1 \\hspace{10mm} &\\ 2 \\hspace{10mm} &\\ 3 \\hspace{10mm} &\\ 4 \\hspace{10mm} &\\ 5 \\hspace{10mm}  \\\\ \\hline\n",
        "\\color{gray}{f(x)}&4 \\hspace{10mm} &2 \\hspace{10mm} &4 \\hspace{10mm} &4 \\hspace{10mm} &-2 \\hspace{10mm} &3.5 \\hspace{10mm}  \\\\ \\hline\n",
        "\\end{array}$\n",
        "\n",
        "16) $\\begin{array}{| c | c | c | c | c | c |} \\hline\n",
        "\\color{gray}{x}&\\ 0 \\hspace{10mm} &\\ 1 \\hspace{10mm} &\\ 2 \\hspace{10mm} &\\ 3 \\hspace{10mm} &\\ 4 \\hspace{10mm} &\\ 5 \\hspace{10mm}  \\\\ \\hline\n",
        "\\color{gray}{f(x)}&8 \\hspace{10mm} &2 \\hspace{10mm} &5 \\hspace{10mm} &3 \\hspace{10mm} &-2 \\hspace{10mm} &-2.5 \\hspace{10mm}  \\\\ \\hline\n",
        "\\end{array}$\n",
        "\n",
        "17) $\\begin{array}{| c | c | c | c | c | c |} \\hline\n",
        "\\color{gray}{x}&\\ 0 \\hspace{10mm} &\\ 1 \\hspace{10mm} &\\ 2 \\hspace{10mm} &\\ 3 \\hspace{10mm} &\\ 4 \\hspace{10mm} &\\ 5 \\hspace{10mm}  \\\\ \\hline\n",
        "\\color{gray}{f(x)}&2 \\hspace{10mm} &4 \\hspace{10mm} &3 \\hspace{10mm} &5 \\hspace{10mm} &2 \\hspace{10mm} &-2 \\hspace{10mm}  \\\\ \\hline\n",
        "\\end{array}$\n",
        "\n",
        "18) $\\begin{array}{| c | c | c | c | c | c |} \\hline\n",
        "\\color{gray}{x}&\\ 0 \\hspace{10mm} &\\ 1 \\hspace{10mm} &\\ 2 \\hspace{10mm} &\\ 3 \\hspace{10mm} &\\ 4 \\hspace{10mm} &\\ 5 \\hspace{10mm}  \\\\ \\hline\n",
        "\\color{gray}{f(x)}&7 \\hspace{10mm} &3 \\hspace{10mm} &5.2 \\hspace{10mm} &3 \\hspace{10mm} &2 \\hspace{10mm} &3.5 \\hspace{10mm}  \\\\ \\hline\n",
        "\\end{array}$\n",
        "\n",
        "19) $\\begin{array}{| c | c | c | c | c | c |} \\hline\n",
        "\\color{gray}{x}&\\ 0 \\hspace{10mm} &\\ 1 \\hspace{10mm} &\\ 2 \\hspace{10mm} &\\ 3 \\hspace{10mm} &\\ 4 \\hspace{10mm} &\\ 5 \\hspace{10mm}  \\\\ \\hline\n",
        "\\color{gray}{f(x)}&8 \\hspace{10mm} &2 \\hspace{10mm} &5 \\hspace{10mm} &3 \\hspace{10mm} &-2 \\hspace{10mm} &-2.5 \\hspace{10mm}  \\\\ \\hline\n",
        "\\end{array}$\n",
        "\n",
        "20) $\\begin{array}{| c | c | c | c | c | c |} \\hline\n",
        "\\color{gray}{x}&\\ 0 \\hspace{10mm} &\\ 1 \\hspace{10mm} &\\ 2 \\hspace{10mm} &\\ 3 \\hspace{10mm} &\\ 4 \\hspace{10mm} &\\ 5 \\hspace{10mm}  \\\\ \\hline\n",
        "\\color{gray}{f(x)}&9 \\hspace{10mm} &5 \\hspace{10mm} &6 \\hspace{10mm} &2 \\hspace{10mm} &3 \\hspace{10mm} &5 \\hspace{10mm}  \\\\ \\hline\n",
        "\\end{array}$\n",
        "\n",
        "21) $\\begin{array}{| c | c | c | c | c | c |} \\hline\n",
        "\\color{gray}{x}&\\ 0 \\hspace{10mm} &\\ 1 \\hspace{10mm} &\\ 2 \\hspace{10mm} &\\ 3 \\hspace{10mm} &\\ 4 \\hspace{10mm} &\\ 5 \\hspace{10mm}  \\\\ \\hline\n",
        "\\color{gray}{f(x)}&5.4 \\hspace{10mm} &2.7 \\hspace{10mm} &5.2 \\hspace{10mm} &3.6 \\hspace{10mm} &2.4 \\hspace{10mm} &3.5 \\hspace{10mm}  \\\\ \\hline\n",
        "\\end{array}$\n",
        "\n",
        "22) $\\begin{array}{| c | c | c | c | c | c |} \\hline\n",
        "\\color{gray}{x}&\\ 0 \\hspace{10mm} &\\ 1 \\hspace{10mm} &\\ 2 \\hspace{10mm} &\\ 3 \\hspace{10mm} &\\ 4 \\hspace{10mm} &\\ 5 \\hspace{10mm}  \\\\ \\hline\n",
        "\\color{gray}{f(x)}&4.4 \\hspace{10mm} &3.2 \\hspace{10mm} &5 \\hspace{10mm} &3.6 \\hspace{10mm} &2 \\hspace{10mm} &-1 \\hspace{10mm}  \\\\ \\hline\n",
        "\\end{array}$\n",
        "\n",
        "23) $\\begin{array}{| c | c | c | c | c | c |} \\hline\n",
        "\\color{gray}{x}&\\ 0 \\hspace{10mm} &\\ 1 \\hspace{10mm} &\\ 2 \\hspace{10mm} &\\ 3 \\hspace{10mm} &\\ 4 \\hspace{10mm} &\\ 5 \\hspace{10mm}  \\\\ \\hline\n",
        "\\color{gray}{f(x)}&5 \\hspace{10mm} &3 \\hspace{10mm} &4 \\hspace{10mm} &7 \\hspace{10mm} &9 \\hspace{10mm} &8 \\hspace{10mm}  \\\\ \\hline\n",
        "\\end{array}$\n",
        "\n",
        "24) $\\begin{array}{| c | c | c | c | c | c |} \\hline\n",
        "\\color{gray}{x}&\\ 0 \\hspace{10mm} &\\ 1 \\hspace{10mm} &\\ 2 \\hspace{10mm} &\\ 3 \\hspace{10mm} &\\ 4 \\hspace{10mm} &\\ 5 \\hspace{10mm}  \\\\ \\hline\n",
        "\\color{gray}{f(x)}&7.5 \\hspace{10mm} &2.5 \\hspace{10mm} &5.5 \\hspace{10mm} &2 \\hspace{10mm} &-3 \\hspace{10mm} &4 \\hspace{10mm}  \\\\ \\hline\n",
        "\\end{array}$\n",
        "\n",
        "25) $\\begin{array}{| c | c | c | c | c | c |} \\hline\n",
        "\\color{gray}{x}&\\ 0 \\hspace{10mm} &\\ 1 \\hspace{10mm} &\\ 2 \\hspace{10mm} &\\ 3 \\hspace{10mm} &\\ 4 \\hspace{10mm} &\\ 5 \\hspace{10mm}  \\\\ \\hline\n",
        "\\color{gray}{f(x)}&-5 \\hspace{10mm} &-2 \\hspace{10mm} &-4.5 \\hspace{10mm} &-3 \\hspace{10mm} &-2.8 \\hspace{10mm} &-2.5 \\hspace{10mm}  \\\\ \\hline\n",
        "\\end{array}$\n",
        "\n"
      ]
    },
    {
      "cell_type": "markdown",
      "metadata": {
        "id": "Lyk5Wo-LL4P0"
      },
      "source": [
        "## **Интеполирование сплайнами**"
      ]
    },
    {
      "cell_type": "markdown",
      "metadata": {
        "id": "Gsrs737cYvjW"
      },
      "source": [
        "Полиноминальная интерполяция - не единственно возможный способ интерполяции.\n",
        "Ещё одним способом является интерполяция сплайнами.\n",
        "\n",
        "Отличие сплайн-интерполяции от интерполяции полиномом состоит в том, что полином один, а сплайн состоит из нескольких полиномов, а именно их количество равно количеству интервалов, внутри которых происходит интерполирование.\n",
        "\n",
        "Кубический сплайн записывается в виде:\n",
        "\n",
        "$ S_i(x) = a_i + b_i(x-x_i) + c_i(x- x_i)^2 + d_i(x-x_i)^3 $\n",
        "\n",
        "тогда $ S_i(x_i) =a_i, S_{i}^{'}(x_i) =b_i, S_{i}^{''}(x_i) =2c_i $\n",
        "\n",
        "Обозначим $h_i =x_i-x_{i-1}$\n",
        "\n",
        "Отсюда получаем формулы для получения коэффициентов сплайна:\n",
        "\n",
        "$ a_i = f(x_i) $ \n",
        "\n",
        "$ d_i = \\frac{c_i-c_{i-1}}{3h_i} $\n",
        "\n",
        "\n",
        "$ b_i = \\frac{a_i - a_{i-1}}{h_i} + \\frac{2c_i - c_{i-1}}{3}h_i $\n",
        "\n",
        "$ c_{i-1}h_i + 2c_{i}(h_i + h_{i+1}) + 2c_{i+1}h_{i+1} = 3(\\frac{a_{i+1}-a_{i}}{h_{i+1}} - \\frac{a_i-a_{i-1}}{h_i}) $\n",
        "\n",
        "$ c_0 = c_N = 0 $\n"
      ]
    },
    {
      "cell_type": "markdown",
      "metadata": {
        "id": "om2wQEBVYvaQ"
      },
      "source": [
        "Даны экспериментальные данные:\n",
        "\n",
        "$\\begin{array}{| c | c | c | c | c | c |} \\hline\n",
        "  \\color{gray}{x}  &  0 \\hspace{10mm} &   1 \\hspace{10mm} &  2 \\hspace{10mm} &  3 \\hspace{10mm} &   4 \\hspace{10mm} &   5 \\hspace{10mm}   \\\\ \\hline\n",
        "\\color{gray}{f(x)} &  2 \\hspace{10mm} &  -3 \\hspace{10mm} &  4 \\hspace{10mm} &  3 \\hspace{10mm} &   5 \\hspace{10mm} &  4.5  \\hspace{10mm}   \\\\ \\hline\n",
        "\\end{array}$\n"
      ]
    },
    {
      "cell_type": "markdown",
      "metadata": {
        "id": "2oO3DoK5K6B2"
      },
      "source": [
        "Сплайн можно записать в виде системы кубических уравнений:"
      ]
    },
    {
      "cell_type": "markdown",
      "metadata": {
        "id": "iX-XqlVV8ecP"
      },
      "source": [
        "$\n",
        "\\begin{equation*}\n",
        "\\begin{cases}\n",
        "   S_0 = a_0 + b_0(x-x_0) + c_0(x- x_0)^2 + d_0(x-x_0)^3\\\\\n",
        "   S_1 = a_1 + b_1(x-x_1) + c_1(x- x_1)^2 + d_1(x-x_1)^3\\\\\n",
        "   S_2 = a_2 + b_2(x-x_2) + c_2(x- x_2)^2 + d_2(x-x_2)^3\\\\\n",
        "   S_3 = a_3 + b_3(x-x_3) + c_3(x- x_3)^2 + d_3(x-x_3)^3\\\\\n",
        "   S_4 = a_4 + b_4(x-x_4) + c_4(x- x_4)^2 + d_4(x-x_4)^3\\\\\n",
        " \\end{cases}\n",
        "\\end{equation*}\n",
        "$"
      ]
    },
    {
      "cell_type": "markdown",
      "metadata": {
        "id": "NyJea2n_NTed"
      },
      "source": [
        "### **Метод прогонки**\n",
        "\n",
        "$ h_i = x_i-x_{i-1} $;\n",
        "$ l_i = y_i-x_{y-1} $\n",
        "\n",
        "$ \\delta_0 = -h_2/(2(h_1+h_2)) $\n",
        "\n",
        "$ \\lambda_0 = 3(l_2-l_1)/(2(h_1-h_2))$\n",
        "\n",
        "$ \\delta_i = -h_{i+1}/(2h_i+2h_{i+1} + h_i \\delta_{i-1}) $\n",
        "\n",
        "$ \\lambda_i = (3l_{i+1} - 3l_i - h_i \\lambda_{i-1})/(2h_i+2h_{i+1}+h_{i} \\delta_{i-1}))$\n",
        "\n",
        "Теперь можно переходить к нахождению коэффициентов **с**\n",
        "\n",
        "$c_i = \\delta_i c_{i+1} + \\lambda_i $"
      ]
    },
    {
      "cell_type": "markdown",
      "metadata": {
        "id": "SYILJn39Sm7A"
      },
      "source": [
        "### **Задание**\n",
        "Выведите уравнения сплайна. Постройте график."
      ]
    }
  ]
}